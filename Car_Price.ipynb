{
  "nbformat": 4,
  "nbformat_minor": 0,
  "metadata": {
    "kernelspec": {
      "language": "python",
      "display_name": "Python 3",
      "name": "python3"
    },
    "language_info": {
      "name": "python",
      "version": "3.7.10",
      "mimetype": "text/x-python",
      "codemirror_mode": {
        "name": "ipython",
        "version": 3
      },
      "pygments_lexer": "ipython3",
      "nbconvert_exporter": "python",
      "file_extension": ".py"
    },
    "colab": {
      "name": "Car Price.ipynb",
      "provenance": []
    }
  },
  "cells": [
    {
      "cell_type": "markdown",
      "metadata": {
        "id": "vhCLlankt0Ca"
      },
      "source": [
        "# Projeto 01 - Car Price Prediction\n",
        "\n",
        "### Objetivo\n",
        "O objetivo é estimar um valor de venda para novos veículos.\n",
        "\n",
        "O modelo será avaliado pelo R2 score.\n",
        "\n",
        "### Base de dados\n",
        "O conjunto de dados foi retirado do site CarDekho e a base contém 5.689 carros. \n",
        "\n",
        "\n"
      ]
    },
    {
      "cell_type": "markdown",
      "metadata": {
        "id": "hNDxCqRLSKNJ"
      },
      "source": [
        "Existem marcas de carros que ocorrem pouquíssimas vezes. Uma alternativa seria agrupar as marcas de carros menos frequentes para verificar se há melhora na métrica de acertos."
      ]
    },
    {
      "cell_type": "code",
      "metadata": {
        "id": "mSW02arzSXSN",
        "trusted": true
      },
      "source": [
        "import numpy as np\n",
        "import pandas as pd\n",
        "import matplotlib.pyplot as plt\n",
        "import seaborn as sns\n",
        "\n",
        "import random\n",
        "random.seed(202101)"
      ],
      "execution_count": 70,
      "outputs": []
    },
    {
      "cell_type": "markdown",
      "metadata": {
        "id": "wZACqHZIx5SR"
      },
      "source": [
        "## Análise dos dados"
      ]
    },
    {
      "cell_type": "code",
      "metadata": {
        "colab": {
          "base_uri": "https://localhost:8080/"
        },
        "id": "YoFMBMpleMVv",
        "outputId": "691fabb7-928c-48ef-db7d-6e5042476905"
      },
      "source": [
        "from google.colab import drive\n",
        "drive.mount('/content/drive')"
      ],
      "execution_count": 71,
      "outputs": [
        {
          "output_type": "stream",
          "name": "stdout",
          "text": [
            "Drive already mounted at /content/drive; to attempt to forcibly remount, call drive.mount(\"/content/drive\", force_remount=True).\n"
          ]
        }
      ]
    },
    {
      "cell_type": "code",
      "metadata": {
        "id": "zT5EsjTLU71z",
        "trusted": true
      },
      "source": [
        "df_train = pd.read_csv(\"/content/drive/MyDrive/Aprendizado de Máquina/Bases/train_car_details.csv\")"
      ],
      "execution_count": 72,
      "outputs": []
    },
    {
      "cell_type": "markdown",
      "metadata": {
        "id": "jLjrd98qlWMR"
      },
      "source": [
        "Os dados são compostos pelas variáveis:\n",
        "\n",
        "\n",
        "* Variaveis quantitativas:<br>\n",
        " * Ano de fabricacao do carro (year)\n",
        " * Qtd de Km dirigidos (km_driven)\n",
        " * Potência máxima do motor (max_power)\n",
        " * Qtd de acentos (seats)\n",
        " * Quilometragem por litro (mileage)\n",
        " * Potencia do motor (engine)\n",
        " * Torque: responsável pela capacidade do motor produzir força motriz, ou seja, o movimento giratório\n",
        " * Preço de venda (selling_price) **Valor a ser predito**\n",
        "\n",
        "* Variaveis qualitativas:\n",
        " * nome do carro (name)\n",
        " * tipo de combustivel utilizado (fuel)\n",
        " * tipo de vendendor (seller_type)\n",
        " * transmission: câmbio automático ou manual\n",
        "\n",
        " * Quantos donos ja possuiram o carro (owner)"
      ]
    },
    {
      "cell_type": "markdown",
      "metadata": {
        "id": "ehlXKtvE0tYH"
      },
      "source": [
        "### Análise de valores ausentes"
      ]
    },
    {
      "cell_type": "code",
      "metadata": {
        "id": "ZOseIrfhyB2l"
      },
      "source": [
        "df_train.head()\n",
        "df_train.drop('Id', axis=1, inplace=True)"
      ],
      "execution_count": 73,
      "outputs": []
    },
    {
      "cell_type": "code",
      "metadata": {
        "colab": {
          "base_uri": "https://localhost:8080/"
        },
        "id": "4-MVo-Dd00td",
        "outputId": "99332dea-3bd3-4ec1-b08c-84a0fc5bd05a"
      },
      "source": [
        "#Porcentagem de nan por atributo\n",
        "print(round(100*df_train.isna().sum()/len(df_train), 2))"
      ],
      "execution_count": 74,
      "outputs": [
        {
          "output_type": "stream",
          "name": "stdout",
          "text": [
            "name             0.00\n",
            "year             0.00\n",
            "selling_price    0.00\n",
            "km_driven        0.00\n",
            "fuel             0.00\n",
            "seller_type      0.00\n",
            "transmission     0.00\n",
            "owner            0.00\n",
            "mileage          2.76\n",
            "engine           2.76\n",
            "max_power        2.65\n",
            "torque           2.78\n",
            "seats            2.76\n",
            "dtype: float64\n"
          ]
        }
      ]
    },
    {
      "cell_type": "code",
      "metadata": {
        "id": "cGF2Ujaj2XD3",
        "colab": {
          "base_uri": "https://localhost:8080/",
          "height": 414
        },
        "outputId": "4347a73a-3794-409a-b1e6-020590bcde38"
      },
      "source": [
        "df_train[df_train['mileage'].isnull()]"
      ],
      "execution_count": 75,
      "outputs": [
        {
          "output_type": "execute_result",
          "data": {
            "text/html": [
              "<div>\n",
              "<style scoped>\n",
              "    .dataframe tbody tr th:only-of-type {\n",
              "        vertical-align: middle;\n",
              "    }\n",
              "\n",
              "    .dataframe tbody tr th {\n",
              "        vertical-align: top;\n",
              "    }\n",
              "\n",
              "    .dataframe thead th {\n",
              "        text-align: right;\n",
              "    }\n",
              "</style>\n",
              "<table border=\"1\" class=\"dataframe\">\n",
              "  <thead>\n",
              "    <tr style=\"text-align: right;\">\n",
              "      <th></th>\n",
              "      <th>name</th>\n",
              "      <th>year</th>\n",
              "      <th>selling_price</th>\n",
              "      <th>km_driven</th>\n",
              "      <th>fuel</th>\n",
              "      <th>seller_type</th>\n",
              "      <th>transmission</th>\n",
              "      <th>owner</th>\n",
              "      <th>mileage</th>\n",
              "      <th>engine</th>\n",
              "      <th>max_power</th>\n",
              "      <th>torque</th>\n",
              "      <th>seats</th>\n",
              "    </tr>\n",
              "  </thead>\n",
              "  <tbody>\n",
              "    <tr>\n",
              "      <th>0</th>\n",
              "      <td>Hyundai Santro GLS I - Euro I</td>\n",
              "      <td>1999</td>\n",
              "      <td>80000</td>\n",
              "      <td>110000</td>\n",
              "      <td>Petrol</td>\n",
              "      <td>Individual</td>\n",
              "      <td>Manual</td>\n",
              "      <td>Second Owner</td>\n",
              "      <td>NaN</td>\n",
              "      <td>NaN</td>\n",
              "      <td>NaN</td>\n",
              "      <td>NaN</td>\n",
              "      <td>NaN</td>\n",
              "    </tr>\n",
              "    <tr>\n",
              "      <th>11</th>\n",
              "      <td>Fiat Punto 1.3 Emotion</td>\n",
              "      <td>2010</td>\n",
              "      <td>190000</td>\n",
              "      <td>120000</td>\n",
              "      <td>Diesel</td>\n",
              "      <td>Individual</td>\n",
              "      <td>Manual</td>\n",
              "      <td>Second Owner</td>\n",
              "      <td>NaN</td>\n",
              "      <td>NaN</td>\n",
              "      <td>NaN</td>\n",
              "      <td>NaN</td>\n",
              "      <td>NaN</td>\n",
              "    </tr>\n",
              "    <tr>\n",
              "      <th>37</th>\n",
              "      <td>Hyundai Santro Xing XG</td>\n",
              "      <td>2006</td>\n",
              "      <td>72000</td>\n",
              "      <td>110000</td>\n",
              "      <td>Petrol</td>\n",
              "      <td>Individual</td>\n",
              "      <td>Manual</td>\n",
              "      <td>Second Owner</td>\n",
              "      <td>NaN</td>\n",
              "      <td>NaN</td>\n",
              "      <td>NaN</td>\n",
              "      <td>NaN</td>\n",
              "      <td>NaN</td>\n",
              "    </tr>\n",
              "    <tr>\n",
              "      <th>48</th>\n",
              "      <td>Toyota Etios Liva GD</td>\n",
              "      <td>2012</td>\n",
              "      <td>400000</td>\n",
              "      <td>107500</td>\n",
              "      <td>Diesel</td>\n",
              "      <td>Individual</td>\n",
              "      <td>Manual</td>\n",
              "      <td>Second Owner</td>\n",
              "      <td>NaN</td>\n",
              "      <td>NaN</td>\n",
              "      <td>NaN</td>\n",
              "      <td>NaN</td>\n",
              "      <td>NaN</td>\n",
              "    </tr>\n",
              "    <tr>\n",
              "      <th>92</th>\n",
              "      <td>Maruti Zen Estilo VXI BSIV W ABS</td>\n",
              "      <td>2011</td>\n",
              "      <td>170000</td>\n",
              "      <td>55113</td>\n",
              "      <td>Petrol</td>\n",
              "      <td>Individual</td>\n",
              "      <td>Manual</td>\n",
              "      <td>First Owner</td>\n",
              "      <td>NaN</td>\n",
              "      <td>NaN</td>\n",
              "      <td>NaN</td>\n",
              "      <td>NaN</td>\n",
              "      <td>NaN</td>\n",
              "    </tr>\n",
              "    <tr>\n",
              "      <th>...</th>\n",
              "      <td>...</td>\n",
              "      <td>...</td>\n",
              "      <td>...</td>\n",
              "      <td>...</td>\n",
              "      <td>...</td>\n",
              "      <td>...</td>\n",
              "      <td>...</td>\n",
              "      <td>...</td>\n",
              "      <td>...</td>\n",
              "      <td>...</td>\n",
              "      <td>...</td>\n",
              "      <td>...</td>\n",
              "      <td>...</td>\n",
              "    </tr>\n",
              "    <tr>\n",
              "      <th>5486</th>\n",
              "      <td>Hyundai Santro Xing XL eRLX Euro II</td>\n",
              "      <td>2006</td>\n",
              "      <td>105000</td>\n",
              "      <td>60000</td>\n",
              "      <td>Petrol</td>\n",
              "      <td>Individual</td>\n",
              "      <td>Manual</td>\n",
              "      <td>Third Owner</td>\n",
              "      <td>NaN</td>\n",
              "      <td>NaN</td>\n",
              "      <td>NaN</td>\n",
              "      <td>NaN</td>\n",
              "      <td>NaN</td>\n",
              "    </tr>\n",
              "    <tr>\n",
              "      <th>5515</th>\n",
              "      <td>Maruti Omni LPG STD BSIV</td>\n",
              "      <td>1999</td>\n",
              "      <td>70000</td>\n",
              "      <td>100000</td>\n",
              "      <td>LPG</td>\n",
              "      <td>Individual</td>\n",
              "      <td>Manual</td>\n",
              "      <td>Fourth &amp; Above Owner</td>\n",
              "      <td>NaN</td>\n",
              "      <td>NaN</td>\n",
              "      <td>NaN</td>\n",
              "      <td>NaN</td>\n",
              "      <td>NaN</td>\n",
              "    </tr>\n",
              "    <tr>\n",
              "      <th>5572</th>\n",
              "      <td>Hyundai Santro Xing XL</td>\n",
              "      <td>2007</td>\n",
              "      <td>90000</td>\n",
              "      <td>64000</td>\n",
              "      <td>Petrol</td>\n",
              "      <td>Individual</td>\n",
              "      <td>Manual</td>\n",
              "      <td>First Owner</td>\n",
              "      <td>NaN</td>\n",
              "      <td>NaN</td>\n",
              "      <td>NaN</td>\n",
              "      <td>NaN</td>\n",
              "      <td>NaN</td>\n",
              "    </tr>\n",
              "    <tr>\n",
              "      <th>5611</th>\n",
              "      <td>Hyundai Santro GLS I - Euro II</td>\n",
              "      <td>2007</td>\n",
              "      <td>150000</td>\n",
              "      <td>60000</td>\n",
              "      <td>Petrol</td>\n",
              "      <td>Individual</td>\n",
              "      <td>Manual</td>\n",
              "      <td>Third Owner</td>\n",
              "      <td>NaN</td>\n",
              "      <td>NaN</td>\n",
              "      <td>NaN</td>\n",
              "      <td>NaN</td>\n",
              "      <td>NaN</td>\n",
              "    </tr>\n",
              "    <tr>\n",
              "      <th>5670</th>\n",
              "      <td>Tata Indica Vista Quadrajet LS</td>\n",
              "      <td>2012</td>\n",
              "      <td>240000</td>\n",
              "      <td>70000</td>\n",
              "      <td>Diesel</td>\n",
              "      <td>Individual</td>\n",
              "      <td>Manual</td>\n",
              "      <td>First Owner</td>\n",
              "      <td>NaN</td>\n",
              "      <td>NaN</td>\n",
              "      <td>0</td>\n",
              "      <td>NaN</td>\n",
              "      <td>NaN</td>\n",
              "    </tr>\n",
              "  </tbody>\n",
              "</table>\n",
              "<p>157 rows × 13 columns</p>\n",
              "</div>"
            ],
            "text/plain": [
              "                                     name  year  ...  torque  seats\n",
              "0           Hyundai Santro GLS I - Euro I  1999  ...     NaN    NaN\n",
              "11                 Fiat Punto 1.3 Emotion  2010  ...     NaN    NaN\n",
              "37                 Hyundai Santro Xing XG  2006  ...     NaN    NaN\n",
              "48                   Toyota Etios Liva GD  2012  ...     NaN    NaN\n",
              "92       Maruti Zen Estilo VXI BSIV W ABS  2011  ...     NaN    NaN\n",
              "...                                   ...   ...  ...     ...    ...\n",
              "5486  Hyundai Santro Xing XL eRLX Euro II  2006  ...     NaN    NaN\n",
              "5515             Maruti Omni LPG STD BSIV  1999  ...     NaN    NaN\n",
              "5572               Hyundai Santro Xing XL  2007  ...     NaN    NaN\n",
              "5611       Hyundai Santro GLS I - Euro II  2007  ...     NaN    NaN\n",
              "5670       Tata Indica Vista Quadrajet LS  2012  ...     NaN    NaN\n",
              "\n",
              "[157 rows x 13 columns]"
            ]
          },
          "metadata": {},
          "execution_count": 75
        }
      ]
    },
    {
      "cell_type": "markdown",
      "metadata": {
        "id": "cPeACfqLXdCL"
      },
      "source": [
        "Pelo fatos dos NaN's estar majoritariamente presente nas mesmas linhas e por representar um baixo volume em relação ao total (menos de 3%), tais linhas serão retiradas."
      ]
    },
    {
      "cell_type": "code",
      "metadata": {
        "id": "SLNlNI1vYz3g",
        "trusted": true,
        "colab": {
          "base_uri": "https://localhost:8080/"
        },
        "outputId": "6f9b5c0e-4880-4f36-e61d-6b0ba1c56219"
      },
      "source": [
        "print(f'Quantidade de linhas totais: ', df_train.shape[0])\n",
        "# Remove as linhas com NaN\n",
        "df_train = df_train.dropna(axis=0)   \n",
        "print(f'Quantidade de linhas após retirada dos NaNs: ', df_train.shape[0])\n",
        "#Aproximadamente 3% de linhas eliminadas\n",
        "df_train = df_train.reset_index(drop=True)"
      ],
      "execution_count": 76,
      "outputs": [
        {
          "output_type": "stream",
          "name": "stdout",
          "text": [
            "Quantidade de linhas totais:  5689\n",
            "Quantidade de linhas após retirada dos NaNs:  5531\n"
          ]
        }
      ]
    },
    {
      "cell_type": "markdown",
      "metadata": {
        "id": "nKnbPT9VUKmw"
      },
      "source": [
        "## Pré-Processamento dos dados"
      ]
    },
    {
      "cell_type": "markdown",
      "metadata": {
        "id": "57o4BDkbD31O"
      },
      "source": [
        "Como observado, algumas variáveis possuem a unidade de medida associada. O objetivo é transformá-las em valores numéricos."
      ]
    },
    {
      "cell_type": "markdown",
      "metadata": {
        "id": "XiCzzFxAF_r3"
      },
      "source": [
        "Mas antes, será verificado o comportamento das variáveis categóricas para identificar se será necessário algum tipo de tratamento."
      ]
    },
    {
      "cell_type": "code",
      "metadata": {
        "colab": {
          "base_uri": "https://localhost:8080/"
        },
        "id": "079iXGVbF4WW",
        "outputId": "bfc87dc8-a09e-477c-e8e3-478a8d043329"
      },
      "source": [
        "print(df_train.fuel.unique())\n",
        "print(df_train.seller_type.unique())\n",
        "print(df_train.transmission.unique())\n",
        "print(df_train.owner.unique())"
      ],
      "execution_count": 77,
      "outputs": [
        {
          "output_type": "stream",
          "name": "stdout",
          "text": [
            "['Diesel' 'Petrol' 'CNG' 'LPG']\n",
            "['Individual' 'Dealer' 'Trustmark Dealer']\n",
            "['Manual' 'Automatic']\n",
            "['First Owner' 'Third Owner' 'Second Owner' 'Fourth & Above Owner'\n",
            " 'Test Drive Car']\n"
          ]
        }
      ]
    },
    {
      "cell_type": "markdown",
      "metadata": {
        "id": "UA_IaUrce6r9"
      },
      "source": [
        "### Engine, max_power"
      ]
    },
    {
      "cell_type": "code",
      "metadata": {
        "colab": {
          "base_uri": "https://localhost:8080/"
        },
        "id": "sC8cMmsQe9zp",
        "outputId": "0f4fc349-a5bc-472c-f889-43a5a886f586"
      },
      "source": [
        "df_train.engine.unique()"
      ],
      "execution_count": 78,
      "outputs": [
        {
          "output_type": "execute_result",
          "data": {
            "text/plain": [
              "array(['1248 CC', '1995 CC', '2179 CC', '2982 CC', '796 CC', '1586 CC',\n",
              "       '1197 CC', '2499 CC', '1498 CC', '1999 CC', '999 CC', '1582 CC',\n",
              "       '2523 CC', '1595 CC', '1461 CC', '2494 CC', '1399 CC', '1599 CC',\n",
              "       '998 CC', '1364 CC', '1193 CC', '1120 CC', '1373 CC', '1497 CC',\n",
              "       '1194 CC', '1591 CC', '2696 CC', '1968 CC', '1198 CC', '1493 CC',\n",
              "       '1405 CC', '1396 CC', '1969 CC', '799 CC', '1186 CC', '814 CC',\n",
              "       '2956 CC', '1086 CC', '1199 CC', '936 CC', '2498 CC', '2489 CC',\n",
              "       '1196 CC', '2143 CC', '1984 CC', '1368 CC', '993 CC', '1991 CC',\n",
              "       '2967 CC', '1496 CC', '995 CC', '1598 CC', '1172 CC', '1495 CC',\n",
              "       '1388 CC', '1499 CC', '1298 CC', '2487 CC', '2148 CC', '1994 CC',\n",
              "       '2362 CC', '1061 CC', '2354 CC', '1596 CC', '2987 CC', '1998 CC',\n",
              "       '1462 CC', '1339 CC', '1948 CC', '2953 CC', '624 CC', '3498 CC',\n",
              "       '2200 CC', '1527 CC', '2755 CC', '1997 CC', '1794 CC', '1798 CC',\n",
              "       '1047 CC', '1956 CC', '3604 CC', '2092 CC', '2993 CC', '1390 CC',\n",
              "       '1795 CC', '1799 CC', '1797 CC', '2393 CC', '2609 CC', '2477 CC',\n",
              "       '1597 CC', '2359 CC', '1896 CC', '2199 CC', '909 CC', '2496 CC',\n",
              "       '1150 CC', '793 CC', '1299 CC', '1341 CC', '2835 CC', '2997 CC',\n",
              "       '1343 CC', '2596 CC', '2198 CC', '2650 CC', '2446 CC', '2776 CC',\n",
              "       '3198 CC', '1451 CC', '2231 CC', '1781 CC', '2694 CC', '2197 CC',\n",
              "       '1950 CC', '2999 CC', '1422 CC', '1590 CC'], dtype=object)"
            ]
          },
          "metadata": {},
          "execution_count": 78
        }
      ]
    },
    {
      "cell_type": "code",
      "metadata": {
        "colab": {
          "base_uri": "https://localhost:8080/"
        },
        "id": "QSQl1GXjkHiM",
        "outputId": "32e14575-4893-4310-c548-fcfd22091e16"
      },
      "source": [
        "df_train.max_power.unique()"
      ],
      "execution_count": 79,
      "outputs": [
        {
          "output_type": "execute_result",
          "data": {
            "text/plain": [
              "array(['88.76 bhp', '187.74 bhp', '138.1 bhp', '171 bhp', '46.3 bhp',\n",
              "       '104.68 bhp', '81.83 bhp', '72.4 bhp', '98.6 bhp', '177 bhp',\n",
              "       '67 bhp', '126.2 bhp', '62.1 bhp', '102 bhp', '83.8 bhp',\n",
              "       '88.5 bhp', '81.80 bhp', '68 bhp', '108.45 bhp', '103.2 bhp',\n",
              "       '88.8 bhp', '67.1 bhp', '67.04 bhp', '138 bhp', '126.32 bhp',\n",
              "       '47.3 bhp', '64.1 bhp', '71 bhp', '91.1 bhp', '67.05 bhp',\n",
              "       '83.11 bhp', '74 bhp', '116.3 bhp', '94.68 bhp', '121.3 bhp',\n",
              "       '162 bhp', '90 bhp', '108.5 bhp', '103.3 bhp', '70 bhp',\n",
              "       '81.86 bhp', '91.72 bhp', '99 bhp', '120 bhp', '88.7 bhp',\n",
              "       '80 bhp', '190 bhp', '100.57 bhp', '140 bhp', '53.3 bhp',\n",
              "       '73.75 bhp', '98.96 bhp', '63.1 bhp', '73.97 bhp', '152.87 bhp',\n",
              "       '55.2 bhp', '88.73 bhp', '58.16 bhp', '68.05 bhp', '77 bhp',\n",
              "       '84 bhp', '56.3 bhp', '35 bhp', '83.1 bhp', '118.35 bhp',\n",
              "       '112 bhp', '76 bhp', '75 bhp', '69 bhp', '93.7 bhp', '73 bhp',\n",
              "       '105 bhp', '136 bhp', '100.6 bhp', '113.4 bhp', '150 bhp',\n",
              "       '86.8 bhp', '98.79 bhp', '160.77 bhp', '85.8 bhp', '60 bhp',\n",
              "       '62 bhp', '88.50 bhp', '147.9 bhp', '126.3 bhp', '61.7 bhp',\n",
              "       '74.02 bhp', '78.9 bhp', '241.4 bhp', '73.9 bhp', '100 bhp',\n",
              "       '120.69 bhp', '65 bhp', '115 bhp', '78 bhp', '92.7 bhp',\n",
              "       '108.6 bhp', '40.3 bhp', '82.9 bhp', '103.6 bhp', '63 bhp',\n",
              "       '99.23 bhp', '37 bhp', '113.42 bhp', '85.80 bhp', '85 bhp',\n",
              "       '83.14 bhp', '157.7 bhp', '98.59 bhp', '138.03 bhp', '110.4 bhp',\n",
              "       '65.3 bhp', '134 bhp', '103.52 bhp', '94.93 bhp', '69.01 bhp',\n",
              "       '214.56 bhp', '170 bhp', '66.1 bhp', '105.3 bhp', '148 bhp',\n",
              "       '103.5 bhp', '53.64 bhp', '147.94 bhp', '116.4 bhp', '164.7 bhp',\n",
              "       '177.6 bhp', '99.6 bhp', '72 bhp', '254.8 bhp', '58.2 bhp',\n",
              "       '89.75 bhp', '117.6 bhp', '184 bhp', '73.94 bhp', '103 bhp',\n",
              "       '82 bhp', '88 bhp', '117.3 bhp', '153.86 bhp', '87.2 bhp',\n",
              "       '52.8 bhp', '94 bhp', '37.48 bhp', '118 bhp', '272 bhp',\n",
              "       '139.01 bhp', '118.3 bhp', '141 bhp', '121.36 bhp', '187.7 bhp',\n",
              "       '108.62 bhp', '58 bhp', '171.5 bhp', '53.5 bhp', '121.4 bhp',\n",
              "       '121.31 bhp', '203.2 bhp', '204 bhp', '82.85 bhp', '98.63 bhp',\n",
              "       '76.8 bhp', '108.495 bhp', '95 bhp', '67.06 bhp', '134.10 bhp',\n",
              "       '102.5 bhp', '86.7 bhp', '76.9 bhp', '112.2 bhp', '97.9 bhp',\n",
              "       '64 bhp', '34.2 bhp', '280 bhp', '79.4 bhp', '100.5 bhp',\n",
              "       '127 bhp', '73.74 bhp', '241 bhp', '110 bhp', '155 bhp',\n",
              "       '84.48 bhp', '83.83 bhp', '174.5 bhp', '83.81 bhp', '265 bhp',\n",
              "       '38 bhp', '71.01 bhp', '80.9 bhp', '82.4 bhp', '148.31 bhp',\n",
              "       '130 bhp', '181 bhp', '57.5 bhp', '57.6 bhp', '68.07 bhp',\n",
              "       '174.33 bhp', '74.96 bhp', '147.5 bhp', '97.7 bhp', '84.8 bhp',\n",
              "       '64.4 bhp', '147.8 bhp', '188 bhp', '168.5 bhp', '157.75 bhp',\n",
              "       '175.56 bhp', '177.46 bhp', '89.84 bhp', '48.21 bhp', '88.2 bhp',\n",
              "       '52 bhp', '139.46 bhp', '37.5 bhp', '121 bhp', '181.04 bhp',\n",
              "       '147.51 bhp', '92 bhp', '64.08 bhp', '198.25 bhp', '35.5 bhp',\n",
              "       '66 bhp', '194.3 bhp', '187.4 bhp', '68.1 bhp', '73.8 bhp',\n",
              "       '116.6 bhp', '91.7 bhp', '101 bhp', '78.8 bhp', '45 bhp', '53 bhp',\n",
              "       '125 bhp', '160 bhp', '201.1 bhp', '179.5 bhp', '66.6 bhp',\n",
              "       '167.67 bhp', '47 bhp', '83 bhp', '105.5 bhp', '167.6 bhp',\n",
              "       '116.9 bhp', '82.5 bhp', '218 bhp', '270.9 bhp', '170.63 bhp',\n",
              "       '123.7 bhp', '158.8 bhp', '53.26 bhp', '163.7 bhp', '152 bhp',\n",
              "       '74.9 bhp', '86.79 bhp', '103.25 bhp', '177.5 bhp', '170.30 bhp',\n",
              "       '80.8 bhp', '104.55 bhp', '261.4 bhp', '63.12 bhp', '158 bhp',\n",
              "       '135.1 bhp', '80.84 bhp', '68.4 bhp', '132 bhp', '106 bhp',\n",
              "       '168.7 bhp', '138.08 bhp', '197.2 bhp', '197 bhp', '38.4 bhp',\n",
              "       '55.23 bhp', '126.24 bhp', '254.79 bhp', '189 bhp', '91.2 bhp',\n",
              "       '189.3 bhp', '143 bhp', '235 bhp', '183 bhp', '123.37 bhp',\n",
              "       '149.5 bhp', '165 bhp', '93.87 bhp', '98.97 bhp', '198.5 bhp',\n",
              "       '142 bhp', '110.5 bhp', '169 bhp', '194 bhp', '86 bhp',\n",
              "       '120.7 bhp', '174.57 bhp', '141.1 bhp', '178 bhp', '167.62 bhp',\n",
              "       '104 bhp', '60.2 bhp', '194.4 bhp'], dtype=object)"
            ]
          },
          "metadata": {},
          "execution_count": 79
        }
      ]
    },
    {
      "cell_type": "markdown",
      "metadata": {
        "id": "km0LF3X-fGcP"
      },
      "source": [
        "Para qualquer valor de engine, temos a mesma unidade de medida e o mesmo ocorre com a variável max_power. Dessa forma, ficaremos apenas com os valores."
      ]
    },
    {
      "cell_type": "code",
      "metadata": {
        "id": "2lZsezEbmH3Q"
      },
      "source": [
        "colunas = ['engine', 'max_power']\n",
        "\n",
        "for i in colunas:\n",
        "  df_train[i] = df_train[i].str.split(' ').str[0]\n",
        "\n",
        "df_train['engine'] = pd.to_numeric(df_train['engine'])\n",
        "df_train['max_power'] = pd.to_numeric(df_train['max_power'])"
      ],
      "execution_count": 80,
      "outputs": []
    },
    {
      "cell_type": "code",
      "metadata": {
        "colab": {
          "base_uri": "https://localhost:8080/"
        },
        "id": "2yFO-j3cf8eG",
        "outputId": "b8be1155-147e-4eed-8856-2a98abc4677c"
      },
      "source": [
        "print(\"engine\")\n",
        "print(min(df_train[\"engine\"]))\n",
        "print(max(df_train[\"engine\"]))\n",
        "\n",
        "print(\"max_power\")\n",
        "print(min(df_train[\"max_power\"]))\n",
        "print(max(df_train[\"max_power\"]))"
      ],
      "execution_count": 81,
      "outputs": [
        {
          "output_type": "stream",
          "name": "stdout",
          "text": [
            "engine\n",
            "624\n",
            "3604\n",
            "max_power\n",
            "34.2\n",
            "280.0\n"
          ]
        }
      ]
    },
    {
      "cell_type": "markdown",
      "metadata": {
        "id": "2kQ1K3K_GoqS"
      },
      "source": [
        "### Mileage"
      ]
    },
    {
      "cell_type": "code",
      "metadata": {
        "colab": {
          "base_uri": "https://localhost:8080/"
        },
        "id": "rZAz57y0GxM3",
        "outputId": "cee74ef9-f97c-4e22-a137-bf238aed7e3b"
      },
      "source": [
        "df_train.mileage.unique()"
      ],
      "execution_count": 82,
      "outputs": [
        {
          "output_type": "execute_result",
          "data": {
            "text/plain": [
              "array(['20.77 kmpl', '19.62 kmpl', '11.57 kmpl', '11.5 kmpl', '19.7 kmpl',\n",
              "       '15.6 kmpl', '18.6 kmpl', '13.58 kmpl', '25.8 kmpl', '19.33 kmpl',\n",
              "       '23.01 kmpl', '23.9 kmpl', '15.96 kmpl', '14.0 kmpl', '21.04 kmpl',\n",
              "       '23.65 kmpl', '12.8 kmpl', '22.0 kmpl', '20.0 kmpl', '19.01 kmpl',\n",
              "       '16.2 kmpl', '21.5 kmpl', '19.0 kmpl', '23.59 kmpl', '20.46 kmpl',\n",
              "       '13.93 kmpl', '22.32 kmpl', '22.74 kmpl', '15.64 kmpl',\n",
              "       '24.4 kmpl', '17.5 kmpl', '23.95 kmpl', '20.4 kmpl', '25.2 kmpl',\n",
              "       '22.3 kmpl', '15.8 kmpl', '12.83 kmpl', '18.8 kmpl', '15.5 kmpl',\n",
              "       '20.63 kmpl', '16.5 kmpl', '18.9 kmpl', '20.5 kmpl', '25.83 kmpl',\n",
              "       '11.79 kmpl', '21.01 kmpl', '17.0 kmpl', '17.01 kmpl', '23.5 kmpl',\n",
              "       '18.5 kmpl', '23.1 kmpl', '21.38 kmpl', '18.0 kmpl', '12.99 kmpl',\n",
              "       '26.0 kmpl', '15.1 kmpl', '25.17 kmpl', '23.0 kmpl', '23.08 kmpl',\n",
              "       '25.4 kmpl', '21.12 kmpl', '21.1 kmpl', '15.3 kmpl', '22.54 kmpl',\n",
              "       '23.57 kmpl', '26.6 km/kg', '19.2 km/kg', '25.32 kmpl',\n",
              "       '23.84 kmpl', '20.14 kmpl', '25.44 kmpl', '20.89 kmpl',\n",
              "       '21.4 kmpl', '13.55 kmpl', '19.34 kmpl', '23.03 kmpl',\n",
              "       '21.21 kmpl', '14.95 kmpl', '22.9 kmpl', '16.55 kmpl',\n",
              "       '20.51 kmpl', '17.9 kmpl', '14.8 kmpl', '17.8 kmpl', '16.8 kmpl',\n",
              "       '13.7 kmpl', '20.92 kmpl', '25.5 kmpl', '16.0 kmpl', '20.3 kmpl',\n",
              "       '16.78 kmpl', '19.1 kmpl', '17.3 kmpl', '17.4 kmpl', '23.26 kmpl',\n",
              "       '15.4 kmpl', '21.0 kmpl', '17.57 kmpl', '21.94 km/kg', '28.4 kmpl',\n",
              "       '20.36 kmpl', '27.3 kmpl', '12.07 kmpl', '19.3 kmpl', '26.59 kmpl',\n",
              "       '14.4 km/kg', '18.49 kmpl', '23.4 kmpl', '15.9 kmpl', '22.07 kmpl',\n",
              "       '21.03 kmpl', '13.5 kmpl', '17.7 kmpl', '15.0 kmpl', '17.21 kmpl',\n",
              "       '19.67 kmpl', '12.05 kmpl', '26.3 km/kg', '24.7 kmpl', '21.9 kmpl',\n",
              "       '14.49 kmpl', '19.2 kmpl', '25.0 kmpl', '22.15 kmpl', '14.84 kmpl',\n",
              "       '26.21 kmpl', '24.0 kmpl', '33.44 km/kg', '19.4 kmpl',\n",
              "       '21.66 kmpl', '20.52 kmpl', '13.6 kmpl', '26.1 kmpl', '15.04 kmpl',\n",
              "       '12.0 kmpl', '16.1 kmpl', '18.7 kmpl', '21.19 kmpl', '13.9 kmpl',\n",
              "       '27.39 kmpl', '16.6 kmpl', '13.2 km/kg', '18.4 kmpl', '17.92 kmpl',\n",
              "       '21.79 kmpl', '20.45 kmpl', '20.85 kmpl', '19.87 kmpl',\n",
              "       '19.16 kmpl', '22.77 kmpl', '24.04 kmpl', '17.45 kmpl',\n",
              "       '15.85 kmpl', '15.37 kmpl', '12.4 kmpl', '21.14 kmpl',\n",
              "       '22.37 kmpl', '10.0 kmpl', '12.2 kmpl', '16.25 kmpl', '19.98 kmpl',\n",
              "       '14.3 kmpl', '22.95 kmpl', '19.09 kmpl', '22.7 kmpl', '14.1 kmpl',\n",
              "       '17.36 kmpl', '17.19 kmpl', '13.4 kmpl', '14.09 kmpl',\n",
              "       '28.09 kmpl', '11.74 kmpl', '26.2 km/kg', '25.01 kmpl',\n",
              "       '16.02 kmpl', '21.02 kmpl', '19.81 kmpl', '16.09 kmpl',\n",
              "       '23.2 kmpl', '25.1 kmpl', '0.0 kmpl', '19.6 kmpl', '11.4 kmpl',\n",
              "       '21.43 kmpl', '17.88 kmpl', '13.2 kmpl', '18.2 kmpl', '10.93 kmpl',\n",
              "       '22.48 kmpl', '20.8 kmpl', '14.02 kmpl', '20.6 kmpl', '20.54 kmpl',\n",
              "       '16.36 kmpl', '11.36 kmpl', '20.65 kmpl', '17.6 kmpl', '17.2 kmpl',\n",
              "       '18.15 kmpl', '15.26 kmpl', '13.0 kmpl', '20.86 kmpl',\n",
              "       '14.53 kmpl', '14.94 kmpl', '23.8 kmpl', '19.5 kmpl', '20.62 kmpl',\n",
              "       '12.6 kmpl', '12.9 kmpl', '24.52 kmpl', '18.06 kmpl', '25.47 kmpl',\n",
              "       '10.5 kmpl', '21.1 km/kg', '22.1 kmpl', '21.7 kmpl', '14.9 kmpl',\n",
              "       '27.28 kmpl', '19.72 kmpl', '25.6 kmpl', '17.1 kmpl', '15.05 kmpl',\n",
              "       '18.3 kmpl', '9.5 kmpl', '24.5 kmpl', '20.73 kmpl', '18.16 kmpl',\n",
              "       '11.2 kmpl', '15.7 kmpl', '14.4 kmpl', '19.49 kmpl', '19.83 kmpl',\n",
              "       '20.37 kmpl', '14.24 kmpl', '19.08 kmpl', '13.38 kmpl',\n",
              "       '24.3 kmpl', '24.8 kmpl', '14.07 kmpl', '22.8 km/kg', '18.78 kmpl',\n",
              "       '16.07 kmpl', '24.2 kmpl', '17.3 km/kg', '15.73 kmpl',\n",
              "       '13.24 kmpl', '22.69 kmpl', '16.3 kmpl', '27.4 kmpl', '16.95 kmpl',\n",
              "       '22.5 kmpl', '21.64 kmpl', '16.84 kmpl', '13.68 kmpl',\n",
              "       '19.02 kmpl', '12.7 kmpl', '13.49 kmpl', '17.11 kmpl',\n",
              "       '14.67 kmpl', '13.1 kmpl', '11.18 kmpl', '14.74 kmpl',\n",
              "       '13.73 kmpl', '18.1 kmpl', '19.59 kmpl', '15.29 kmpl', '26.8 kmpl',\n",
              "       '18.25 kmpl', '11.88 km/kg', '22.05 kmpl', '18.88 kmpl',\n",
              "       '21.63 kmpl', '13.44 kmpl', '16.6 km/kg', '14.66 kmpl',\n",
              "       '19.0 km/kg', '15.42 kmpl', '22.71 kmpl', '22.27 kmpl',\n",
              "       '21.27 kmpl', '17.97 kmpl', '14.62 kmpl', '14.6 kmpl',\n",
              "       '19.44 kmpl', '11.07 kmpl', '14.7 kmpl', '27.62 kmpl',\n",
              "       '21.4 km/kg', '13.8 kmpl', '18.12 kmpl', '12.55 kmpl', '14.2 kmpl',\n",
              "       '13.45 km/kg', '9.0 kmpl', '13.22 kmpl', '16.52 kmpl',\n",
              "       '19.12 kmpl', '11.1 kmpl', '20.71 kmpl', '20.7 kmpl', '19.56 kmpl',\n",
              "       '14.5 kmpl', '10.1 kmpl', '20.2 kmpl', '19.61 kmpl', '16.96 kmpl',\n",
              "       '33.0 km/kg', '11.0 kmpl', '16.4 kmpl', '23.3 kmpl', '20.34 kmpl',\n",
              "       '14.23 kmpl', '17.09 kmpl', '12.62 kmpl', '21.76 kmpl',\n",
              "       '13.87 kmpl', '14.28 kmpl', '11.96 kmpl', '30.46 km/kg',\n",
              "       '11.68 kmpl', '12.5 kmpl', '15.2 kmpl', '21.49 kmpl', '17.67 kmpl',\n",
              "       '11.45 kmpl', '10.91 kmpl', '26.83 km/kg', '23.7 km/kg',\n",
              "       '19.64 kmpl', '16.7 kmpl', '13.96 kmpl', '15.71 kmpl',\n",
              "       '11.72 kmpl', '16.9 kmpl', '16.34 kmpl', '16.47 kmpl',\n",
              "       '20.38 kmpl', '17.05 kmpl', '20.07 kmpl', '19.68 kmpl',\n",
              "       '21.8 kmpl', '21.2 kmpl', '21.13 kmpl', '10.75 kmpl', '21.56 kmpl',\n",
              "       '15.17 kmpl', '15.74 kmpl', '14.81 kmpl', '10.9 kmpl',\n",
              "       '15.63 kmpl', '11.7 kmpl', '21.72 kmpl', '16.05 kmpl',\n",
              "       '17.71 kmpl', '17.43 kmpl', '15.41 kmpl', '12.85 kmpl',\n",
              "       '20.88 km/kg', '16.0 km/kg', '18.53 kmpl', '16.38 kmpl',\n",
              "       '20.28 kmpl', '17.8 km/kg', '15.1 km/kg', '17.68 kmpl'],\n",
              "      dtype=object)"
            ]
          },
          "metadata": {},
          "execution_count": 82
        }
      ]
    },
    {
      "cell_type": "markdown",
      "metadata": {
        "id": "ts7j0fRdHNl8"
      },
      "source": [
        "Temos km/L e Km/Kg."
      ]
    },
    {
      "cell_type": "code",
      "metadata": {
        "id": "W88RputxHjuG"
      },
      "source": [
        "for i in df_train.index:\n",
        "  df_train.loc[i,\"Unidade_fuel\"]=df_train.loc[i,\"mileage\"].split()[1]"
      ],
      "execution_count": 83,
      "outputs": []
    },
    {
      "cell_type": "code",
      "metadata": {
        "colab": {
          "base_uri": "https://localhost:8080/"
        },
        "id": "BqXSMurNPyHs",
        "outputId": "5ec50fc7-7ed7-49b4-b82e-4c170401becf"
      },
      "source": [
        "len(df_train.query('Unidade_fuel == \"km/kg\"'))"
      ],
      "execution_count": 84,
      "outputs": [
        {
          "output_type": "execute_result",
          "data": {
            "text/plain": [
              "62"
            ]
          },
          "metadata": {},
          "execution_count": 84
        }
      ]
    },
    {
      "cell_type": "code",
      "metadata": {
        "id": "cczuwkK2zARn"
      },
      "source": [
        "df_train.drop('Unidade_fuel', axis=1, inplace=True)"
      ],
      "execution_count": 85,
      "outputs": []
    },
    {
      "cell_type": "markdown",
      "metadata": {
        "id": "VF8w-BAoP_u2"
      },
      "source": [
        "O tipo de combustível para os casos nos quais a unidade de medida é km/kg, são CNG (gás) e LPG (líquido), dessa forma, ao relizar a devida conversão para km/pl = km/L, pois é maioria no conjunto, os valores à gás ficariam muito pequenos. Dessa forma, optou-se por tranformar o tipo de combustível gasolina e diesel na unidade km/kg."
      ]
    },
    {
      "cell_type": "markdown",
      "metadata": {
        "id": "HQPU3OCcTOV4"
      },
      "source": [
        "https://www.sciencedirect.com/topics/engineering/diesel-fuel\n",
        "\n",
        "A densidade do diesel é de 0,85 kg/L, já a da gasolina, 0,74 kg/L.\n",
        "\n",
        "Através da conversão de unidades, tem-se\n",
        "\n",
        "$$\n",
        "km/kg = \\frac{km/L}{densidade} \n",
        "$$\n"
      ]
    },
    {
      "cell_type": "markdown",
      "metadata": {
        "id": "GeDqfZlgUOiR"
      },
      "source": [
        "https://unece.org/fileadmin/DAM/trans/main/wp29/wp29regs/2015/R115r1am1e.pdf"
      ]
    },
    {
      "cell_type": "code",
      "metadata": {
        "id": "hGC4VlFGTEyS"
      },
      "source": [
        "densidade_d = 0.85\n",
        "densidadede_g = 0.74\n",
        "\n",
        "for i in df_train.index:\n",
        "  if df_train.loc[i, 'fuel'] == 'Diesel':\n",
        "    df_train.loc[i,\"mileage\"] = round(float(df_train.loc[i,\"mileage\"].split()[0]) / densidade_d, 2)\n",
        "  elif df_train.loc[i, 'fuel'] == 'Petrol':\n",
        "    df_train.loc[i,\"mileage\"] = round(float(df_train.loc[i,\"mileage\"].split()[0]) / densidadede_g, 2)\n",
        "  else:\n",
        "    df_train.loc[i,\"mileage\"] =  round(float(df_train.loc[i,\"mileage\"].split()[0]), 2)"
      ],
      "execution_count": 86,
      "outputs": []
    },
    {
      "cell_type": "code",
      "metadata": {
        "colab": {
          "base_uri": "https://localhost:8080/"
        },
        "id": "FTVh-v0ZbKYx",
        "outputId": "d1046fe8-b7ec-45b7-eebe-469159e0a81d"
      },
      "source": [
        "df_train['mileage'] = pd.to_numeric(df_train['mileage'])\n",
        "print(min(df_train[\"mileage\"]))\n",
        "print(max(df_train[\"mileage\"]))"
      ],
      "execution_count": 87,
      "outputs": [
        {
          "output_type": "stream",
          "name": "stdout",
          "text": [
            "0.0\n",
            "35.14\n"
          ]
        }
      ]
    },
    {
      "cell_type": "code",
      "metadata": {
        "colab": {
          "base_uri": "https://localhost:8080/",
          "height": 0
        },
        "id": "8Q6GUjEWdFu-",
        "outputId": "63be71ac-f4c2-422f-cab7-1a17aeac53e4"
      },
      "source": [
        "df_train.query('mileage == 0')"
      ],
      "execution_count": 88,
      "outputs": [
        {
          "output_type": "execute_result",
          "data": {
            "text/html": [
              "<div>\n",
              "<style scoped>\n",
              "    .dataframe tbody tr th:only-of-type {\n",
              "        vertical-align: middle;\n",
              "    }\n",
              "\n",
              "    .dataframe tbody tr th {\n",
              "        vertical-align: top;\n",
              "    }\n",
              "\n",
              "    .dataframe thead th {\n",
              "        text-align: right;\n",
              "    }\n",
              "</style>\n",
              "<table border=\"1\" class=\"dataframe\">\n",
              "  <thead>\n",
              "    <tr style=\"text-align: right;\">\n",
              "      <th></th>\n",
              "      <th>name</th>\n",
              "      <th>year</th>\n",
              "      <th>selling_price</th>\n",
              "      <th>km_driven</th>\n",
              "      <th>fuel</th>\n",
              "      <th>seller_type</th>\n",
              "      <th>transmission</th>\n",
              "      <th>owner</th>\n",
              "      <th>mileage</th>\n",
              "      <th>engine</th>\n",
              "      <th>max_power</th>\n",
              "      <th>torque</th>\n",
              "      <th>seats</th>\n",
              "    </tr>\n",
              "  </thead>\n",
              "  <tbody>\n",
              "    <tr>\n",
              "      <th>425</th>\n",
              "      <td>Hyundai Santro Xing (Non-AC)</td>\n",
              "      <td>2010</td>\n",
              "      <td>110000</td>\n",
              "      <td>80000</td>\n",
              "      <td>Petrol</td>\n",
              "      <td>Individual</td>\n",
              "      <td>Manual</td>\n",
              "      <td>Second Owner</td>\n",
              "      <td>0.0</td>\n",
              "      <td>1086</td>\n",
              "      <td>62.10</td>\n",
              "      <td>96.1Nm@ 3000rpm</td>\n",
              "      <td>5.0</td>\n",
              "    </tr>\n",
              "    <tr>\n",
              "      <th>471</th>\n",
              "      <td>Land Rover Freelander 2 TD4 HSE</td>\n",
              "      <td>2013</td>\n",
              "      <td>1650000</td>\n",
              "      <td>64788</td>\n",
              "      <td>Diesel</td>\n",
              "      <td>Dealer</td>\n",
              "      <td>Automatic</td>\n",
              "      <td>First Owner</td>\n",
              "      <td>0.0</td>\n",
              "      <td>2179</td>\n",
              "      <td>115.00</td>\n",
              "      <td>400 Nm /2000 rpm</td>\n",
              "      <td>5.0</td>\n",
              "    </tr>\n",
              "    <tr>\n",
              "      <th>2369</th>\n",
              "      <td>Hyundai Santro Xing (Non-AC)</td>\n",
              "      <td>2010</td>\n",
              "      <td>110000</td>\n",
              "      <td>80000</td>\n",
              "      <td>Petrol</td>\n",
              "      <td>Individual</td>\n",
              "      <td>Manual</td>\n",
              "      <td>Second Owner</td>\n",
              "      <td>0.0</td>\n",
              "      <td>1086</td>\n",
              "      <td>62.10</td>\n",
              "      <td>96.1Nm@ 3000rpm</td>\n",
              "      <td>5.0</td>\n",
              "    </tr>\n",
              "    <tr>\n",
              "      <th>2492</th>\n",
              "      <td>Volkswagen Polo GT TSI BSIV</td>\n",
              "      <td>2014</td>\n",
              "      <td>574000</td>\n",
              "      <td>28080</td>\n",
              "      <td>Petrol</td>\n",
              "      <td>Dealer</td>\n",
              "      <td>Automatic</td>\n",
              "      <td>First Owner</td>\n",
              "      <td>0.0</td>\n",
              "      <td>1197</td>\n",
              "      <td>103.25</td>\n",
              "      <td>175nm@ 1500-4100rpm</td>\n",
              "      <td>5.0</td>\n",
              "    </tr>\n",
              "    <tr>\n",
              "      <th>2499</th>\n",
              "      <td>Hyundai Santro Xing GL</td>\n",
              "      <td>2008</td>\n",
              "      <td>105000</td>\n",
              "      <td>128000</td>\n",
              "      <td>Petrol</td>\n",
              "      <td>Individual</td>\n",
              "      <td>Manual</td>\n",
              "      <td>First Owner</td>\n",
              "      <td>0.0</td>\n",
              "      <td>1086</td>\n",
              "      <td>62.00</td>\n",
              "      <td>96.1Nm@ 3000rpm</td>\n",
              "      <td>5.0</td>\n",
              "    </tr>\n",
              "    <tr>\n",
              "      <th>3268</th>\n",
              "      <td>Hyundai Santro Xing GL</td>\n",
              "      <td>2011</td>\n",
              "      <td>150000</td>\n",
              "      <td>40000</td>\n",
              "      <td>Petrol</td>\n",
              "      <td>Individual</td>\n",
              "      <td>Manual</td>\n",
              "      <td>Fourth &amp; Above Owner</td>\n",
              "      <td>0.0</td>\n",
              "      <td>1086</td>\n",
              "      <td>62.00</td>\n",
              "      <td>96.1Nm@ 3000rpm</td>\n",
              "      <td>5.0</td>\n",
              "    </tr>\n",
              "    <tr>\n",
              "      <th>3315</th>\n",
              "      <td>Mahindra Bolero Pik-Up CBC 1.7T</td>\n",
              "      <td>2019</td>\n",
              "      <td>722000</td>\n",
              "      <td>80000</td>\n",
              "      <td>Diesel</td>\n",
              "      <td>Individual</td>\n",
              "      <td>Manual</td>\n",
              "      <td>First Owner</td>\n",
              "      <td>0.0</td>\n",
              "      <td>2523</td>\n",
              "      <td>70.00</td>\n",
              "      <td>200Nm@ 1400-2200rpm</td>\n",
              "      <td>2.0</td>\n",
              "    </tr>\n",
              "    <tr>\n",
              "      <th>3424</th>\n",
              "      <td>Hyundai Santro Xing (Non-AC)</td>\n",
              "      <td>2013</td>\n",
              "      <td>184000</td>\n",
              "      <td>15000</td>\n",
              "      <td>Petrol</td>\n",
              "      <td>Individual</td>\n",
              "      <td>Manual</td>\n",
              "      <td>First Owner</td>\n",
              "      <td>0.0</td>\n",
              "      <td>1086</td>\n",
              "      <td>62.10</td>\n",
              "      <td>96.1Nm@ 3000rpm</td>\n",
              "      <td>5.0</td>\n",
              "    </tr>\n",
              "    <tr>\n",
              "      <th>3808</th>\n",
              "      <td>Mercedes-Benz M-Class ML 350 4Matic</td>\n",
              "      <td>2011</td>\n",
              "      <td>1700000</td>\n",
              "      <td>110000</td>\n",
              "      <td>Diesel</td>\n",
              "      <td>Individual</td>\n",
              "      <td>Automatic</td>\n",
              "      <td>Third Owner</td>\n",
              "      <td>0.0</td>\n",
              "      <td>2987</td>\n",
              "      <td>165.00</td>\n",
              "      <td>510@ 1600-2400</td>\n",
              "      <td>5.0</td>\n",
              "    </tr>\n",
              "    <tr>\n",
              "      <th>4523</th>\n",
              "      <td>Mercedes-Benz GLC 220d 4MATIC</td>\n",
              "      <td>2017</td>\n",
              "      <td>3300000</td>\n",
              "      <td>60000</td>\n",
              "      <td>Diesel</td>\n",
              "      <td>Dealer</td>\n",
              "      <td>Automatic</td>\n",
              "      <td>First Owner</td>\n",
              "      <td>0.0</td>\n",
              "      <td>1950</td>\n",
              "      <td>194.00</td>\n",
              "      <td>400nm@ 2800rpm</td>\n",
              "      <td>5.0</td>\n",
              "    </tr>\n",
              "    <tr>\n",
              "      <th>5192</th>\n",
              "      <td>Tata Indica Vista Aura Safire Anniversary Edition</td>\n",
              "      <td>2009</td>\n",
              "      <td>135000</td>\n",
              "      <td>28900</td>\n",
              "      <td>Petrol</td>\n",
              "      <td>Individual</td>\n",
              "      <td>Manual</td>\n",
              "      <td>Second Owner</td>\n",
              "      <td>0.0</td>\n",
              "      <td>1172</td>\n",
              "      <td>65.00</td>\n",
              "      <td>9.8@ 3,000(kgm@ rpm)</td>\n",
              "      <td>5.0</td>\n",
              "    </tr>\n",
              "  </tbody>\n",
              "</table>\n",
              "</div>"
            ],
            "text/plain": [
              "                                                   name  ...  seats\n",
              "425                        Hyundai Santro Xing (Non-AC)  ...    5.0\n",
              "471                     Land Rover Freelander 2 TD4 HSE  ...    5.0\n",
              "2369                       Hyundai Santro Xing (Non-AC)  ...    5.0\n",
              "2492                        Volkswagen Polo GT TSI BSIV  ...    5.0\n",
              "2499                             Hyundai Santro Xing GL  ...    5.0\n",
              "3268                             Hyundai Santro Xing GL  ...    5.0\n",
              "3315                    Mahindra Bolero Pik-Up CBC 1.7T  ...    2.0\n",
              "3424                       Hyundai Santro Xing (Non-AC)  ...    5.0\n",
              "3808                Mercedes-Benz M-Class ML 350 4Matic  ...    5.0\n",
              "4523                      Mercedes-Benz GLC 220d 4MATIC  ...    5.0\n",
              "5192  Tata Indica Vista Aura Safire Anniversary Edition  ...    5.0\n",
              "\n",
              "[11 rows x 13 columns]"
            ]
          },
          "metadata": {},
          "execution_count": 88
        }
      ]
    },
    {
      "cell_type": "markdown",
      "metadata": {
        "id": "2-W6ttqeeD1x"
      },
      "source": [
        "Valores zeros para mileage serão substituídos por NaN para posterior input de valores."
      ]
    },
    {
      "cell_type": "code",
      "metadata": {
        "id": "wKlYGaDyoUyW"
      },
      "source": [
        "df_train.mileage.replace(0, np.nan, inplace=True)"
      ],
      "execution_count": 89,
      "outputs": []
    },
    {
      "cell_type": "markdown",
      "metadata": {
        "id": "Tq0Y6VMzs4GO"
      },
      "source": [
        "### Torque"
      ]
    },
    {
      "cell_type": "markdown",
      "metadata": {
        "id": "wPYkGcputO6y"
      },
      "source": [
        "Realizar a limpeza do torque será desafiador, uma vez que há diferentes unidades, bem como, diferentes tipos de 'escritas'."
      ]
    },
    {
      "cell_type": "code",
      "metadata": {
        "colab": {
          "base_uri": "https://localhost:8080/"
        },
        "id": "pibwYA4ms0d1",
        "outputId": "0ded3a05-86ee-4468-c93c-685aac115a2a"
      },
      "source": [
        "df_train.torque.unique()"
      ],
      "execution_count": 90,
      "outputs": [
        {
          "output_type": "execute_result",
          "data": {
            "text/plain": [
              "array(['200Nm@ 1750rpm', '400Nm@ 1750-2500rpm', '320Nm@ 1700-2700rpm',\n",
              "       '343Nm@ 1400-3400rpm', '62Nm@ 3000rpm', '145@ 4,100(kgm@ rpm)',\n",
              "       '114.7Nm@ 4000rpm', '171Nm@ 1800rpm', '430Nm@ 1750-2500rpm',\n",
              "       '91Nm@ 4250rpm', '259.9Nm@ 1900-2750rpm', '195Nm@ 1400-2200rpm',\n",
              "       '15@ 3,800(kgm@ rpm)', '200Nm@ 1900rpm',\n",
              "       '20.4@ 1400-3400(kgm@ rpm)', '113Nm@ 4200rpm', '160Nm@ 2000rpm',\n",
              "       '248Nm@ 2250rpm', '14.9 KGM at 3000 RPM', '90Nm@ 3500rpm',\n",
              "       '170Nm@ 1800-2400rpm', '259.8Nm@ 1900-2750rpm', '69Nm@ 3500rpm',\n",
              "       '100Nm@ 2700rpm', '180.4Nm@ 1750-2500rpm', '130Nm@ 4000rpm',\n",
              "       '190Nm@ 2000rpm', '146Nm@ 4800rpm', '120Nm@ 4250rpm',\n",
              "       '190Nm@ 1750-3000rpm', '151Nm@ 4850rpm', '340Nm@ 1800-3250rpm',\n",
              "       '200Nm@ 1750-3000rpm', '250Nm@ 1500-2500rpm', '145Nm@ 4100rpm',\n",
              "       '104Nm@ 4000rpm', '113.75nm@ 4000rpm', '209Nm@ 2000rpm',\n",
              "       '215Nm@ 1750-3000rpm', '290Nm@ 1800-2800rpm',\n",
              "       '13.5@ 2,500(kgm@ rpm)', '154.9Nm@ 4200rpm', '204Nm@ 2000-2750rpm',\n",
              "       '11.4 kgm at 4,000 rpm', '219.7Nm@ 1500-2750rpm',\n",
              "       '170Nm@ 1750-4000rpm', '400Nm', '200Nm@ 1400-3400rpm',\n",
              "       '330Nm@ 1600-2800rpm', '72Nm@ 4386rpm', '110Nm@ 3750rpm',\n",
              "       '205Nm@ 1750-3250rpm', '190.25nm@ 1750-2250rpm',\n",
              "       '360Nm@ 1750-2800rpm', '260Nm@ 1500-2750rpm', '74.5Nm@ 4000rpm',\n",
              "       '250Nm@ 1000-2000rpm', '140Nm@ 1800-3000rpm', '77Nm@ 3500rpm',\n",
              "       '99.04Nm@ 4500rpm', '190Nm@ 1750-2250rpm', '114Nm@ 3500rpm',\n",
              "       '230Nm@ 1500-2500rpm', '142.5Nm@ 1750rpm', '6.1@ 3,000(kgm@ rpm)',\n",
              "       '115Nm@ 4000rpm', '250Nm@ 1500-3000rpm', '260 Nm at 1800-2200 rpm',\n",
              "       '104Nm@ 4400rpm', '190 Nm at 2000rpm', '218Nm@ 1400-2600rpm',\n",
              "       '101Nm@ 3000rpm', '247Nm@ 1800-2000rpm', '300Nm@ 1600-3000rpm',\n",
              "       '19@ 1,800(kgm@ rpm)', '200Nm@ 1200-3600rpm',\n",
              "       '250nm@ 1500-2750rpm', '350Nm@ 1500-2750rpm', '109Nm@ 4500rpm',\n",
              "       '131Nm@ 4400rpm', '94.14Nm@ 3500rpm', '250Nm@ 1750-2500rpm',\n",
              "       '114Nm@ 4000rpm', '78Nm@ 4500rpm', '12.5@ 2,500(kgm@ rpm)',\n",
              "       '117nm@ 4000rpm', '113nm@ 4400rpm', '280Nm@ 1800-2800rpm',\n",
              "       '180Nm@ 2000rpm', '320Nm@ 2000rpm', '140Nm@ 1500-4000rpm',\n",
              "       '85Nm@ 3000rpm', '111.7Nm@ 4000rpm', '550Nm@ 1750-2750rpm',\n",
              "       '85Nm@ 3500rpm', '240Nm@ 1600-2800rpm', '149Nm@ 4500rpm',\n",
              "       '277.5Nm@ 1700-2200rpm', '16@ 2,000(kgm@ rpm)',\n",
              "       '13.9 kgm at 4200 rpm', '12.7@ 2,700(kgm@ rpm)', '99Nm@ 4500rpm',\n",
              "       '90.3Nm@ 4200rpm', '127Nm@ 3500rpm', '153Nm@ 3750-3800rpm',\n",
              "       '160Nm@ 1500-2750rpm', '60Nm@ 3500rpm', '113.8Nm@ 4000rpm',\n",
              "       '132Nm@ 3000rpm', '180 Nm at 1440-1500rpm', '153Nm@ 3800rpm',\n",
              "       '13.1kgm@ 4600rpm', '59Nm@ 2500rpm', '250.06nm@ 1500-2750rpm',\n",
              "       '110Nm@ 4800rpm', '96 Nm at 3000 rpm', '135.4Nm@ 2500rpm',\n",
              "       '219.66nm@ 1500-2750rpm', '14.9@ 3,000(kgm@ rpm)',\n",
              "       '113Nm@ 4,500rpm', '124.5Nm@ 3500rpm', '16.3@ 2,000(kgm@ rpm)',\n",
              "       '190 Nm at 1750 rpm ', '96.1Nm@ 3000rpm', '213Nm@ 4500rpm',\n",
              "       '140Nm@ 4400rpm', '10.2@ 2,600(kgm@ rpm)', '320Nm@ 1800-2800rpm',\n",
              "       '22.4 kgm at 1750-2750rpm', '202Nm@ 3600-5200rpm',\n",
              "       '400Nm@ 1400-2800rpm', '263.7Nm@ 2500rpm', '340nm@ 1750-3000rpm',\n",
              "       '245Nm@ 1750rpm', '135Nm@ 2500rpm', '320Nm@ 1500-3000rpm',\n",
              "       '114.73Nm@ 4000rpm', '224Nm@ 4000rpm', '84Nm@ 3500rpm',\n",
              "       '222Nm@ 4300rpm', '146Nm@ 3400rpm', '190.24nm@ 1750-2250rpm',\n",
              "       '96Nm@ 3500rpm', '619Nm@ 1600-2400rpm', '400nm@ 1750-2500rpm',\n",
              "       '111.8Nm@ 4000rpm', '102Nm@ 4000rpm', '145Nm@ 4600rpm',\n",
              "       '380Nm@ 1750-2750rpm', '138Nm@ 4400rpm', '123Nm@ 1000-2500rpm',\n",
              "       '115@ 2,500(kgm@ rpm)', '380Nm@ 2500rpm', '205Nm@ 1800-2800rpm',\n",
              "       '85Nm@ 2500rpm', '114.73nm@ 4000rpm', '12.5@ 3,500(kgm@ rpm)',\n",
              "       '51Nm@ 4000rpm', '146Nm at 4800 rpm', '6.1kgm@ 3000rpm',\n",
              "       '355Nm@ 4500rpm', '400 Nm /2000 rpm', '197Nm@ 1750rpm',\n",
              "       '321Nm@ 1600-2400rpm', '280Nm@ 2400-2800rpm',\n",
              "       '320Nm@ 1750-3000rpm', '150Nm@ 4500rpm', '219.6Nm@ 1750-2750rpm',\n",
              "       '450Nm@ 2000rpm', '789Nm@ 2250rpm', '360Nm@ 1200-3400rpm',\n",
              "       '8.5@ 2,500(kgm@ rpm)', '115Nm@ 3500-3600rpm',\n",
              "       '500Nm@ 1600-1800rpm', '190Nm@ 4300rpm', '173Nm@ 4000rpm',\n",
              "       '113Nm@ 4500rpm', '113.7Nm@ 4000rpm', '300Nm@ 1500-2500rpm',\n",
              "       '132.3Nm@ 4000rpm', '320Nm@ 1600-2800rpm', '106.5Nm@ 4400rpm',\n",
              "       '220Nm at 1400-2600 rpm', '215Nm@ 1750-2500rpm', '116Nm@ 4750rpm',\n",
              "       '25@ 1,800-2,800(kgm@ rpm)', '148Nm@ 4000rpm',\n",
              "       '180Nm@ 1440-1500rpm', '182.5Nm@ 1500-1800rpm', '136Nm@ 4250rpm',\n",
              "       '205Nm@ 1750rpm', '224nm@ 1500-2750rpm', '102Nm@ 2600rpm',\n",
              "       '350Nm@ 1750-2500rpm', '327Nm@ 2600rpm', '347Nm@ 4300rpm',\n",
              "       '108Nm@ 4400rpm', '150Nm@ 1700-4500rpm', '83Nm@ 3000rpm',\n",
              "       '20@ 3,750(kgm@ rpm)', '112Nm@ 4000rpm', '172.5Nm@ 1750rpm',\n",
              "       '540Nm@ 2000rpm', '24@ 1,900-2,750(kgm@ rpm)',\n",
              "       '110@ 3,000(kgm@ rpm)', '12.5kgm@ 3500rpm', '113Nm@ 3300rpm',\n",
              "       '119Nm@ 4250rpm', '240Nm@ 1750rpm', '420Nm@ 1400-2600rpm',\n",
              "       '144.15nm@ 4500rpm', '219.6Nm@ 1500-2750rpm',\n",
              "       '620Nm@ 1500-2500rpm', '51Nm@ 4000+/-500rpm',\n",
              "       '16.6@ 4,500(kgm@ rpm)', '219.7Nm@ 1750-2750rpm',\n",
              "       '223Nm@ 1600-2200rpm', '110Nm@ 4000rpm', '108.5Nm@ 5000rpm',\n",
              "       '200Nm@ 1400-2200rpm', '382nm@ 1750-2250rpm',\n",
              "       '450Nm@ 1600-2400rpm', '95Nm@ 3000-4300rpm', '172Nm@ 4300rpm',\n",
              "       '380Nm@ 1750-3000rpm', '200Nm@ 2000-3500rpm',\n",
              "       '7.8@ 4,500(kgm@ rpm)', '150Nm@ 1750rpm', '99.07Nm@ 4500rpm',\n",
              "       '380Nm@ 1750-2500rpm', '145Nm@ 3750rpm', '210nm@ 1600-2200rpm',\n",
              "       '177.5Nm@ 4700rpm', '134Nm@ 4000rpm', '113.75Nm@ 4000rpm',\n",
              "       '200Nm@ 2000rpm', '99.8Nm@ 2700rpm', '343Nm@ 1400-2800rpm',\n",
              "       '12@ 2500(kgm@ rpm)', '400nm@ 1750-3000rpm', '320Nm@ 1750-2500rpm',\n",
              "       '420Nm@ 2000rpm', '320Nm@ 1750-2700rpm', '24 KGM at 1900-2750 RPM',\n",
              "       '190Nm@ 1750rpm', '250Nm@ 1500-4500rpm', '320Nm@ 1400-4100rpm',\n",
              "       '400Nm@ 2000-2500rpm', '250@ 1250-5000rpm', '187Nm@ 2500rpm',\n",
              "       '11.5@ 4,500(kgm@ rpm)', '106Nm@ 2200rpm',\n",
              "       '259.87nm@ 1500-3000rpm', '402Nm@ 1600-3000rpm', '174Nm@ 4300rpm',\n",
              "       '300Nm@ 1750-2500rpm', '6@ 2,500(kgm@ rpm)', '300Nm@ 1200-1400rpm',\n",
              "       '195Nm@ 1440-2200rpm', '300Nm@ 2000rpm', '230Nm@ 1500-2250rpm',\n",
              "       '160Nm@ 1750rpm', '9.8@ 3,000(kgm@ rpm)', '400Nm@ 1750-3000rpm',\n",
              "       '110Nm@ 4500rpm', '159.8Nm@ 1500-2750rpm', '250Nm@ 4250rpm',\n",
              "       '5.7@ 2,500(kgm@ rpm)', '210 / 1900', '420.7Nm@ 1800-2500rpm',\n",
              "       '226Nm@ 4400rpm', '99.1Nm@ 4500rpm', '9.2@ 4,200(kgm@ rpm)',\n",
              "       '14.3@ 1,800-3,000(kgm@ rpm)', '28.3@ 1,700-2,200(kgm@ rpm)',\n",
              "       '14.9@ 3,400(kgm@ rpm)', '104Nm@ 3100rpm', '98Nm@ 1600-3000rpm',\n",
              "       '71Nm@ 3500rpm', '220Nm@ 1500-2750rpm', '16.1@ 4,200(kgm@ rpm)',\n",
              "       '48@ 3,000+/-500(NM@ rpm)', '250Nm@ 1500~4500rpm',\n",
              "       '36.6@ 1,750-2,500(kgm@ rpm)', '110Nm@ 3000-4300rpm',\n",
              "       '115Nm@ 4500rpm', '138nm@ 4400rpm', '228Nm@ 4400rpm',\n",
              "       '12.4@ 2,600(kgm@ rpm)', '11.2@ 4,400(kgm@ rpm)',\n",
              "       '10.4@ 3,200(kgm@ rpm)', '12.5@ 3,000(kgm@ rpm)',\n",
              "       '110(11.2)@ 4800', '48Nm@ 3000rpm', '125Nm@ 2000rpm',\n",
              "       '10.7@ 2,500(kgm@ rpm)', '115Nm@ 3200rpm', '151NM@ 4850rpm',\n",
              "       '140Nm@ 4200rpm', '292Nm@ 2000rpm', '90nm@ 3500rpm',\n",
              "       '8.6@ 3,500(kgm@ rpm)', '130@ 2500(kgm@ rpm)', '196Nm@ 5000rpm',\n",
              "       '600Nm@ 2000rpm', '580Nm@ 1400-3250rpm', '305Nm@ 2000rpm',\n",
              "       '360Nm@ 1400-3200rpm', '219.9Nm@ 1750-2750rpm', '218Nm@ 4200rpm',\n",
              "       '380Nm@ 2000rpm', '215Nm@ 3600rpm', '135.4Nm@ 2500',\n",
              "       '215Nm@ 1750-3000', '25.5@ 1,900(kgm@ rpm)', '13@ 2,500(kgm@ rpm)',\n",
              "       '135 Nm at 2500  rpm ', '110Nm@ 4400rpm', '175nm@ 1500-4100rpm',\n",
              "       '250Nm@ 1250-5000rpm', '410Nm@ 1600-2800rpm',\n",
              "       '11.4@ 4,000(kgm@ rpm)', '21.4@ 1,900(kgm@ rpm)',\n",
              "       '11.3kgm@ 4700rpm', '230Nm@ 1800-2000rpm', '136.3Nm@ 4200rpm',\n",
              "       '103Nm@ 4500rpm', '219.66NM@ 1500-2750rpm', '142Nm@ 4000rpm',\n",
              "       '620Nm@ 2000-2500rpm', '385Nm@ 1600-2500rpm', '330Nm@ 1800rpm',\n",
              "       '190Nm@ 3700rpm', '110Nm@ 3000rpm', '175Nm@ 1500-4100rpm',\n",
              "       '151Nm@ 2400rpm', '113Nm@ 5000rpm', '260Nm@ 1800-2200rpm',\n",
              "       '170Nm@ 4200rpm', '10.7@ 2,600(kgm@ rpm)', '250nm@ 1500-3000rpm',\n",
              "       '259.87NM@ 1500-3000rpm', '500Nm@ 2000rpm', '62Nm@ 2500rpm',\n",
              "       '470Nm@ 1750-2500rpm', '90Nm@ 2650rpm', '250Nm@ 1600-3600rpm',\n",
              "       '259.87Nm@ 1900-2750rpm', '424Nm@ 2000rpm', '620Nm@ 1600-2400rpm',\n",
              "       '190 Nm at 1750  rpm ', '280Nm@ 1350-4600rpm',\n",
              "       '436.4Nm@ 1800-2500rpm', '13.5@ 4,800(kgm@ rpm)',\n",
              "       '180 Nm at 2000rpm', '250Nm@ 1250-5300rpm', '480Nm',\n",
              "       '12@ 3,500(kgm@ rpm)', '11@ 3,000(kgm@ rpm)',\n",
              "       '18@ 1,600-2,200(kgm@ rpm)', '170Nm@ 1400-4500rpm',\n",
              "       '185Nm@ 1750-2750rpm', '21.4@ 1,750-4,600(kgm@ rpm)',\n",
              "       '240Nm@ 2000rpm', '380Nm@ 1750rpm', '510@ 1600-2400',\n",
              "       '245Nm@ 4000rpm', '17.5@ 4,300(kgm@ rpm)', '250Nm@ 1600-2000rpm',\n",
              "       '171.6Nm@ 1500-4000rpm', '360Nm@ 2000rpm', '33.7@ 1,800(kgm@ rpm)',\n",
              "       '225Nm@ 1500-2500rpm', '215nm@ 1750-2500rpm',\n",
              "       '115@ 2500(kgm@ rpm)', '46.5@ 1,400-2,800(kgm@ rpm)',\n",
              "       '343Nm@ 1600-2800rpm', '300Nm@ 1200-4000rpm', '400nm@ 2800rpm',\n",
              "       '96Nm@ 2500rpm', '128Nm@ 3100rpm', '200Nm@ 1250-4000rpm',\n",
              "       '4.8kgm@ 3000rpm', '240Nm@ 1850rpm', '380NM@ 1800-2800rpm',\n",
              "       '135 Nm at 2500 rpm', '190Nm@ 2000-3000', '135.3Nm@ 5000rpm',\n",
              "       '124Nm@ 3500rpm', '190Nm@ 4200rpm', '88.4Nm@ 4200rpm',\n",
              "       '13.5@ 2500(kgm@ rpm)', '155 Nm at 1600-2800 rpm',\n",
              "       '124.6Nm@ 3500rpm', '51@ 1,750-3,000(kgm@ rpm)',\n",
              "       '42@ 2,000(kgm@ rpm)', '400Nm@ 175-2750rpm', '148Nm@ 3500rpm',\n",
              "       '320Nm@ 1500-2800rpm', '300Nm@ 1600-4000rpm', '130Nm@ 3000rpm',\n",
              "       '96  Nm at 3000  rpm '], dtype=object)"
            ]
          },
          "metadata": {},
          "execution_count": 90
        }
      ]
    },
    {
      "cell_type": "markdown",
      "metadata": {
        "id": "x1TJQ8vVtmr9"
      },
      "source": [
        "Diante dos valores únicos, optou-se por criar duas variáveis para torque: uma que traz o valor em Nm e o outro, em rpm.\n",
        "\n",
        "A tratativa será realizada por partes."
      ]
    },
    {
      "cell_type": "code",
      "metadata": {
        "id": "POMbpMjov8Pj"
      },
      "source": [
        "df_train['torque'] = df_train['torque'].str.replace(',', '', regex=True).replace('at', '', regex=True)"
      ],
      "execution_count": 91,
      "outputs": []
    },
    {
      "cell_type": "code",
      "metadata": {
        "id": "GBvKfjset4yI"
      },
      "source": [
        "df_train['torque_Nm'] = df_train.torque.str.split(' ', expand=True)[0].str.extract(r'(^([0-9]*[-])?[0-9]+)')[0]\n",
        "df_train['torque_rpm'] = df_train.torque.str.split(' ', expand=True)[1].str.extract(r'(^([0-9]*[-])?[0-9]+)')[0]\n",
        "df_train['torque_rpm'].values[df_train['torque_rpm'].values == '175-2750'] = '1750-2750'\n",
        "#selecionando o primeiro valor dos casos com traço: '1750-2750'\n",
        "df_train['torque_rpm'] = df_train.torque_rpm.str.split('-', expand=True)[0]"
      ],
      "execution_count": 92,
      "outputs": []
    },
    {
      "cell_type": "code",
      "metadata": {
        "id": "eFGIfzD9QTO_"
      },
      "source": [
        "df_train['torque_rpm'] = pd.to_numeric(df_train['torque_rpm'])\n",
        "df_train['torque_Nm'] = pd.to_numeric(df_train['torque_Nm'])\n",
        "#eliminando a coluna torque\n",
        "df_train.drop('torque', axis=1, inplace=True)"
      ],
      "execution_count": 93,
      "outputs": []
    },
    {
      "cell_type": "markdown",
      "metadata": {
        "id": "WNutk1QUgRcZ"
      },
      "source": [
        "Análise de valores discrepantes"
      ]
    },
    {
      "cell_type": "code",
      "metadata": {
        "colab": {
          "base_uri": "https://localhost:8080/",
          "height": 0
        },
        "id": "EVLfSs_Jyz-2",
        "outputId": "800580e1-c6ec-42d5-ccf9-a0cd1d6a9ec9"
      },
      "source": [
        "df_train.describe()"
      ],
      "execution_count": 94,
      "outputs": [
        {
          "output_type": "execute_result",
          "data": {
            "text/html": [
              "<div>\n",
              "<style scoped>\n",
              "    .dataframe tbody tr th:only-of-type {\n",
              "        vertical-align: middle;\n",
              "    }\n",
              "\n",
              "    .dataframe tbody tr th {\n",
              "        vertical-align: top;\n",
              "    }\n",
              "\n",
              "    .dataframe thead th {\n",
              "        text-align: right;\n",
              "    }\n",
              "</style>\n",
              "<table border=\"1\" class=\"dataframe\">\n",
              "  <thead>\n",
              "    <tr style=\"text-align: right;\">\n",
              "      <th></th>\n",
              "      <th>year</th>\n",
              "      <th>selling_price</th>\n",
              "      <th>km_driven</th>\n",
              "      <th>mileage</th>\n",
              "      <th>engine</th>\n",
              "      <th>max_power</th>\n",
              "      <th>seats</th>\n",
              "      <th>torque_Nm</th>\n",
              "      <th>torque_rpm</th>\n",
              "    </tr>\n",
              "  </thead>\n",
              "  <tbody>\n",
              "    <tr>\n",
              "      <th>count</th>\n",
              "      <td>5531.000000</td>\n",
              "      <td>5.531000e+03</td>\n",
              "      <td>5.531000e+03</td>\n",
              "      <td>5520.000000</td>\n",
              "      <td>5531.000000</td>\n",
              "      <td>5531.000000</td>\n",
              "      <td>5531.000000</td>\n",
              "      <td>5531.000000</td>\n",
              "      <td>5342.000000</td>\n",
              "    </tr>\n",
              "    <tr>\n",
              "      <th>mean</th>\n",
              "      <td>2013.920810</td>\n",
              "      <td>6.396651e+05</td>\n",
              "      <td>6.926906e+04</td>\n",
              "      <td>24.315493</td>\n",
              "      <td>1458.589405</td>\n",
              "      <td>91.242470</td>\n",
              "      <td>5.422528</td>\n",
              "      <td>167.454891</td>\n",
              "      <td>2703.949832</td>\n",
              "    </tr>\n",
              "    <tr>\n",
              "      <th>std</th>\n",
              "      <td>3.873994</td>\n",
              "      <td>7.858599e+05</td>\n",
              "      <td>5.139751e+04</td>\n",
              "      <td>4.923319</td>\n",
              "      <td>504.526402</td>\n",
              "      <td>35.127503</td>\n",
              "      <td>0.960857</td>\n",
              "      <td>97.118715</td>\n",
              "      <td>1114.845504</td>\n",
              "    </tr>\n",
              "    <tr>\n",
              "      <th>min</th>\n",
              "      <td>1994.000000</td>\n",
              "      <td>2.999900e+04</td>\n",
              "      <td>1.000000e+00</td>\n",
              "      <td>11.760000</td>\n",
              "      <td>624.000000</td>\n",
              "      <td>34.200000</td>\n",
              "      <td>2.000000</td>\n",
              "      <td>4.000000</td>\n",
              "      <td>1000.000000</td>\n",
              "    </tr>\n",
              "    <tr>\n",
              "      <th>25%</th>\n",
              "      <td>2012.000000</td>\n",
              "      <td>2.650000e+05</td>\n",
              "      <td>3.500000e+04</td>\n",
              "      <td>20.940000</td>\n",
              "      <td>1197.000000</td>\n",
              "      <td>68.050000</td>\n",
              "      <td>5.000000</td>\n",
              "      <td>99.500000</td>\n",
              "      <td>1750.000000</td>\n",
              "    </tr>\n",
              "    <tr>\n",
              "      <th>50%</th>\n",
              "      <td>2015.000000</td>\n",
              "      <td>4.500000e+05</td>\n",
              "      <td>6.000000e+04</td>\n",
              "      <td>25.000000</td>\n",
              "      <td>1248.000000</td>\n",
              "      <td>82.000000</td>\n",
              "      <td>5.000000</td>\n",
              "      <td>154.000000</td>\n",
              "      <td>2000.000000</td>\n",
              "    </tr>\n",
              "    <tr>\n",
              "      <th>75%</th>\n",
              "      <td>2017.000000</td>\n",
              "      <td>6.750000e+05</td>\n",
              "      <td>9.575000e+04</td>\n",
              "      <td>27.730000</td>\n",
              "      <td>1582.000000</td>\n",
              "      <td>102.000000</td>\n",
              "      <td>5.000000</td>\n",
              "      <td>202.000000</td>\n",
              "      <td>4000.000000</td>\n",
              "    </tr>\n",
              "    <tr>\n",
              "      <th>max</th>\n",
              "      <td>2020.000000</td>\n",
              "      <td>7.200000e+06</td>\n",
              "      <td>1.500000e+06</td>\n",
              "      <td>35.140000</td>\n",
              "      <td>3604.000000</td>\n",
              "      <td>280.000000</td>\n",
              "      <td>10.000000</td>\n",
              "      <td>789.000000</td>\n",
              "      <td>5000.000000</td>\n",
              "    </tr>\n",
              "  </tbody>\n",
              "</table>\n",
              "</div>"
            ],
            "text/plain": [
              "              year  selling_price  ...    torque_Nm   torque_rpm\n",
              "count  5531.000000   5.531000e+03  ...  5531.000000  5342.000000\n",
              "mean   2013.920810   6.396651e+05  ...   167.454891  2703.949832\n",
              "std       3.873994   7.858599e+05  ...    97.118715  1114.845504\n",
              "min    1994.000000   2.999900e+04  ...     4.000000  1000.000000\n",
              "25%    2012.000000   2.650000e+05  ...    99.500000  1750.000000\n",
              "50%    2015.000000   4.500000e+05  ...   154.000000  2000.000000\n",
              "75%    2017.000000   6.750000e+05  ...   202.000000  4000.000000\n",
              "max    2020.000000   7.200000e+06  ...   789.000000  5000.000000\n",
              "\n",
              "[8 rows x 9 columns]"
            ]
          },
          "metadata": {},
          "execution_count": 94
        }
      ]
    },
    {
      "cell_type": "markdown",
      "metadata": {
        "id": "X6O2AkD-TsM8"
      },
      "source": [
        "Como o valor mínimo do torque é 4, realizando algumas buscas no google, identificamos que um valor de torque mínimo aceitável é 28 e chegou-se nesse resultado consultando algumas marcas de carro do nosso banco no google e foi identificado que quando o torque era 28 para alguma marca de carro, o resultado batia. Dessa forma, vamos atribuir NaN para valores de torque menores que 28."
      ]
    },
    {
      "cell_type": "code",
      "metadata": {
        "colab": {
          "base_uri": "https://localhost:8080/",
          "height": 0
        },
        "id": "FbTnZI0ufv3w",
        "outputId": "0cb6509e-12f8-4639-807e-736a0ebd0712"
      },
      "source": [
        "ax = sns.boxplot(x=\"torque_Nm\", data=df_train)"
      ],
      "execution_count": 95,
      "outputs": [
        {
          "output_type": "display_data",
          "data": {
            "image/png": "[encoded data removed]",
            "text/plain": [
              "<Figure size 432x288 with 1 Axes>"
            ]
          },
          "metadata": {}
        }
      ]
    },
    {
      "cell_type": "markdown",
      "metadata": {
        "id": "UOD_yRemgoIh"
      },
      "source": [
        "Pelo gráfico do boxplot pode-se observar que há valores com torque muito alto, dessa forma, será atribuido NaN para esses valores também."
      ]
    },
    {
      "cell_type": "code",
      "metadata": {
        "colab": {
          "base_uri": "https://localhost:8080/"
        },
        "id": "ao6pPAmkR45d",
        "outputId": "5cdbc3db-dc49-4df1-b758-55d3e619a06c"
      },
      "source": [
        "len(df_train.query('torque_Nm < 28'))"
      ],
      "execution_count": 96,
      "outputs": [
        {
          "output_type": "execute_result",
          "data": {
            "text/plain": [
              "340"
            ]
          },
          "metadata": {},
          "execution_count": 96
        }
      ]
    },
    {
      "cell_type": "code",
      "metadata": {
        "colab": {
          "base_uri": "https://localhost:8080/",
          "height": 0
        },
        "id": "pCkBqj1Sfe2B",
        "outputId": "8b527301-330e-4d50-b582-66bd4ed7f984"
      },
      "source": [
        "df_train.query('torque_Nm > 700')"
      ],
      "execution_count": 97,
      "outputs": [
        {
          "output_type": "execute_result",
          "data": {
            "text/html": [
              "<div>\n",
              "<style scoped>\n",
              "    .dataframe tbody tr th:only-of-type {\n",
              "        vertical-align: middle;\n",
              "    }\n",
              "\n",
              "    .dataframe tbody tr th {\n",
              "        vertical-align: top;\n",
              "    }\n",
              "\n",
              "    .dataframe thead th {\n",
              "        text-align: right;\n",
              "    }\n",
              "</style>\n",
              "<table border=\"1\" class=\"dataframe\">\n",
              "  <thead>\n",
              "    <tr style=\"text-align: right;\">\n",
              "      <th></th>\n",
              "      <th>name</th>\n",
              "      <th>year</th>\n",
              "      <th>selling_price</th>\n",
              "      <th>km_driven</th>\n",
              "      <th>fuel</th>\n",
              "      <th>seller_type</th>\n",
              "      <th>transmission</th>\n",
              "      <th>owner</th>\n",
              "      <th>mileage</th>\n",
              "      <th>engine</th>\n",
              "      <th>max_power</th>\n",
              "      <th>seats</th>\n",
              "      <th>torque_Nm</th>\n",
              "      <th>torque_rpm</th>\n",
              "    </tr>\n",
              "  </thead>\n",
              "  <tbody>\n",
              "    <tr>\n",
              "      <th>507</th>\n",
              "      <td>Maruti Zen D</td>\n",
              "      <td>2003</td>\n",
              "      <td>85000</td>\n",
              "      <td>120000</td>\n",
              "      <td>Diesel</td>\n",
              "      <td>Individual</td>\n",
              "      <td>Manual</td>\n",
              "      <td>Third Owner</td>\n",
              "      <td>24.47</td>\n",
              "      <td>1527</td>\n",
              "      <td>58.0</td>\n",
              "      <td>5.0</td>\n",
              "      <td>789</td>\n",
              "      <td>2250.0</td>\n",
              "    </tr>\n",
              "    <tr>\n",
              "      <th>1245</th>\n",
              "      <td>Maruti Zen D</td>\n",
              "      <td>2002</td>\n",
              "      <td>120000</td>\n",
              "      <td>60000</td>\n",
              "      <td>Diesel</td>\n",
              "      <td>Individual</td>\n",
              "      <td>Manual</td>\n",
              "      <td>Second Owner</td>\n",
              "      <td>24.47</td>\n",
              "      <td>1527</td>\n",
              "      <td>58.0</td>\n",
              "      <td>5.0</td>\n",
              "      <td>789</td>\n",
              "      <td>2250.0</td>\n",
              "    </tr>\n",
              "  </tbody>\n",
              "</table>\n",
              "</div>"
            ],
            "text/plain": [
              "              name  year  selling_price  ...  seats torque_Nm torque_rpm\n",
              "507   Maruti Zen D  2003          85000  ...    5.0       789     2250.0\n",
              "1245  Maruti Zen D  2002         120000  ...    5.0       789     2250.0\n",
              "\n",
              "[2 rows x 14 columns]"
            ]
          },
          "metadata": {},
          "execution_count": 97
        }
      ]
    },
    {
      "cell_type": "code",
      "metadata": {
        "id": "DmWHPkc-Ug29"
      },
      "source": [
        "df_train['torque_Nm'].values[df_train['torque_Nm'].values < 28] = 0\n",
        "df_train['torque_Nm'].values[df_train['torque_Nm'].values > 700] = 0\n",
        "df_train.torque_Nm.replace(0, np.nan, inplace=True)"
      ],
      "execution_count": 98,
      "outputs": []
    },
    {
      "cell_type": "code",
      "metadata": {
        "colab": {
          "base_uri": "https://localhost:8080/"
        },
        "id": "hAkzHTz4zjks",
        "outputId": "2c695dfd-cc89-472b-f238-1a79df7b7e88"
      },
      "source": [
        "len(df_train[df_train['torque_Nm'].isnull()])"
      ],
      "execution_count": 99,
      "outputs": [
        {
          "output_type": "execute_result",
          "data": {
            "text/plain": [
              "342"
            ]
          },
          "metadata": {},
          "execution_count": 99
        }
      ]
    },
    {
      "cell_type": "markdown",
      "metadata": {
        "id": "2ipD2FxNjy3Y"
      },
      "source": [
        "O mesmo para km_driven"
      ]
    },
    {
      "cell_type": "code",
      "metadata": {
        "colab": {
          "base_uri": "https://localhost:8080/",
          "height": 0
        },
        "id": "eyuzuzsji3Cg",
        "outputId": "a51fb933-9695-4ec5-b8b7-32919ddc85e2"
      },
      "source": [
        "ax = sns.boxplot(x=\"km_driven\", data=df_train)"
      ],
      "execution_count": 100,
      "outputs": [
        {
          "output_type": "display_data",
          "data": {
            "image/png": "[encoded data removed]",
            "text/plain": [
              "<Figure size 432x288 with 1 Axes>"
            ]
          },
          "metadata": {}
        }
      ]
    },
    {
      "cell_type": "code",
      "metadata": {
        "colab": {
          "base_uri": "https://localhost:8080/",
          "height": 0
        },
        "id": "nr_kODsIjEYl",
        "outputId": "cabb5aee-6cef-40fb-bc11-afe7b0aeca39"
      },
      "source": [
        "df_train.query('km_driven >= 1500000')"
      ],
      "execution_count": 101,
      "outputs": [
        {
          "output_type": "execute_result",
          "data": {
            "text/html": [
              "<div>\n",
              "<style scoped>\n",
              "    .dataframe tbody tr th:only-of-type {\n",
              "        vertical-align: middle;\n",
              "    }\n",
              "\n",
              "    .dataframe tbody tr th {\n",
              "        vertical-align: top;\n",
              "    }\n",
              "\n",
              "    .dataframe thead th {\n",
              "        text-align: right;\n",
              "    }\n",
              "</style>\n",
              "<table border=\"1\" class=\"dataframe\">\n",
              "  <thead>\n",
              "    <tr style=\"text-align: right;\">\n",
              "      <th></th>\n",
              "      <th>name</th>\n",
              "      <th>year</th>\n",
              "      <th>selling_price</th>\n",
              "      <th>km_driven</th>\n",
              "      <th>fuel</th>\n",
              "      <th>seller_type</th>\n",
              "      <th>transmission</th>\n",
              "      <th>owner</th>\n",
              "      <th>mileage</th>\n",
              "      <th>engine</th>\n",
              "      <th>max_power</th>\n",
              "      <th>seats</th>\n",
              "      <th>torque_Nm</th>\n",
              "      <th>torque_rpm</th>\n",
              "    </tr>\n",
              "  </thead>\n",
              "  <tbody>\n",
              "    <tr>\n",
              "      <th>3990</th>\n",
              "      <td>Mahindra XUV500 W6 2WD</td>\n",
              "      <td>2012</td>\n",
              "      <td>500000</td>\n",
              "      <td>1500000</td>\n",
              "      <td>Diesel</td>\n",
              "      <td>Individual</td>\n",
              "      <td>Manual</td>\n",
              "      <td>First Owner</td>\n",
              "      <td>17.76</td>\n",
              "      <td>2179</td>\n",
              "      <td>140.0</td>\n",
              "      <td>7.0</td>\n",
              "      <td>330.0</td>\n",
              "      <td>1600.0</td>\n",
              "    </tr>\n",
              "  </tbody>\n",
              "</table>\n",
              "</div>"
            ],
            "text/plain": [
              "                        name  year  selling_price  ...  seats torque_Nm torque_rpm\n",
              "3990  Mahindra XUV500 W6 2WD  2012         500000  ...    7.0     330.0     1600.0\n",
              "\n",
              "[1 rows x 14 columns]"
            ]
          },
          "metadata": {},
          "execution_count": 101
        }
      ]
    },
    {
      "cell_type": "code",
      "metadata": {
        "id": "rrIfYrmbjnCQ"
      },
      "source": [
        "df_train['km_driven'].values[df_train['km_driven'].values >= 1500000] = 0\n",
        "df_train.km_driven.replace(0, np.nan, inplace=True)"
      ],
      "execution_count": 102,
      "outputs": []
    },
    {
      "cell_type": "markdown",
      "metadata": {
        "id": "VyUOUmlGANqW"
      },
      "source": [
        "### Name - Marca do carro"
      ]
    },
    {
      "cell_type": "markdown",
      "metadata": {
        "id": "14gf31RXASdm"
      },
      "source": [
        "A variável marca do carro será criada"
      ]
    },
    {
      "cell_type": "code",
      "metadata": {
        "id": "QjgcGyoHAQwQ"
      },
      "source": [
        "#Criando a coluna marca\n",
        "df_train['brand'] = df_train['name'].str.split(' ').str[0]\n",
        "df_train.drop('name', axis = 1, inplace = True)"
      ],
      "execution_count": 103,
      "outputs": []
    },
    {
      "cell_type": "markdown",
      "metadata": {
        "id": "iJeSypked8CJ"
      },
      "source": [
        "### Preenchendo valores ausentes com o KNN imputer"
      ]
    },
    {
      "cell_type": "code",
      "metadata": {
        "id": "9E5cbLbUyghC"
      },
      "source": [
        "#retirando a variavel alvo na hora de sar o knn imputer\n",
        "X = df_train\n",
        "\n",
        "col_valor = []\n",
        "col_categoria = []\n",
        "\n",
        "for i in X.columns:\n",
        "  if df_train[i].dtype == 'object':\n",
        "    col_categoria.append(i)\n",
        "  else:\n",
        "    col_valor.append(i)"
      ],
      "execution_count": 104,
      "outputs": []
    },
    {
      "cell_type": "code",
      "metadata": {
        "id": "m3hBNmr7eKzU"
      },
      "source": [
        "X_final = X[col_valor]\n",
        "# knn imputation treino\n",
        "from numpy import isnan\n",
        "from sklearn.impute import KNNImputer\n",
        "\n",
        "# define imputer\n",
        "imputer = KNNImputer()\n",
        "# fit on the dataset\n",
        "imputer.fit(X_final)\n",
        "# transform the dataset\n",
        "Xtrans = imputer.transform(X_final)"
      ],
      "execution_count": 105,
      "outputs": []
    },
    {
      "cell_type": "code",
      "metadata": {
        "id": "0GNDtZpqd2jD"
      },
      "source": [
        "base_categoria = pd.DataFrame()\n",
        "base_categoria = df_train[col_categoria]\n",
        "base_valor = pd.DataFrame(Xtrans, columns=X_final.columns)"
      ],
      "execution_count": 106,
      "outputs": []
    },
    {
      "cell_type": "code",
      "metadata": {
        "id": "Sp-EoHSHtDjH"
      },
      "source": [
        "#Juntando bases apos imputacao\n",
        "df_final = pd.concat([base_valor, base_categoria], axis=1)"
      ],
      "execution_count": 107,
      "outputs": []
    },
    {
      "cell_type": "code",
      "metadata": {
        "colab": {
          "base_uri": "https://localhost:8080/"
        },
        "id": "EbNLvz9espz3",
        "outputId": "391401a5-2fe2-4bec-e8f5-7cbef086f766"
      },
      "source": [
        "#Porcentagem de nan por atributo\n",
        "print(round(100*df_final.isna().sum()/len(df_train), 2))\n"
      ],
      "execution_count": 108,
      "outputs": [
        {
          "output_type": "stream",
          "name": "stdout",
          "text": [
            "year             0.0\n",
            "selling_price    0.0\n",
            "km_driven        0.0\n",
            "mileage          0.0\n",
            "engine           0.0\n",
            "max_power        0.0\n",
            "seats            0.0\n",
            "torque_Nm        0.0\n",
            "torque_rpm       0.0\n",
            "fuel             0.0\n",
            "seller_type      0.0\n",
            "transmission     0.0\n",
            "owner            0.0\n",
            "brand            0.0\n",
            "dtype: float64\n"
          ]
        }
      ]
    },
    {
      "cell_type": "code",
      "metadata": {
        "colab": {
          "base_uri": "https://localhost:8080/"
        },
        "id": "x8bijfQcXXpt",
        "outputId": "a07f3b05-26c2-4031-9086-91f4c4c250a4"
      },
      "source": [
        "df_final.info()"
      ],
      "execution_count": 109,
      "outputs": [
        {
          "output_type": "stream",
          "name": "stdout",
          "text": [
            "<class 'pandas.core.frame.DataFrame'>\n",
            "RangeIndex: 5531 entries, 0 to 5530\n",
            "Data columns (total 14 columns):\n",
            " #   Column         Non-Null Count  Dtype  \n",
            "---  ------         --------------  -----  \n",
            " 0   year           5531 non-null   float64\n",
            " 1   selling_price  5531 non-null   float64\n",
            " 2   km_driven      5531 non-null   float64\n",
            " 3   mileage        5531 non-null   float64\n",
            " 4   engine         5531 non-null   float64\n",
            " 5   max_power      5531 non-null   float64\n",
            " 6   seats          5531 non-null   float64\n",
            " 7   torque_Nm      5531 non-null   float64\n",
            " 8   torque_rpm     5531 non-null   float64\n",
            " 9   fuel           5531 non-null   object \n",
            " 10  seller_type    5531 non-null   object \n",
            " 11  transmission   5531 non-null   object \n",
            " 12  owner          5531 non-null   object \n",
            " 13  brand          5531 non-null   object \n",
            "dtypes: float64(9), object(5)\n",
            "memory usage: 605.1+ KB\n"
          ]
        }
      ]
    },
    {
      "cell_type": "markdown",
      "metadata": {
        "id": "6yS0P0M3BFD5"
      },
      "source": [
        "### Análise descritiva"
      ]
    },
    {
      "cell_type": "code",
      "metadata": {
        "colab": {
          "base_uri": "https://localhost:8080/",
          "height": 0
        },
        "id": "YsrJv4w_FgrZ",
        "outputId": "d1cae5bc-96f6-4d7b-de12-79f40dd7aace"
      },
      "source": [
        "#correlacao de Pearson\n",
        "plt.figure(figsize=(16, 6))\n",
        "mask = np.triu(np.ones_like(df_final.corr(), dtype=np.bool))\n",
        "heatmap = sns.heatmap(df_final.corr(), mask=mask, vmin=-1, vmax=1, annot=True, cmap='BrBG')\n",
        "heatmap.set_title('Correlation Heatmap', fontdict={'fontsize':18}, pad=16);"
      ],
      "execution_count": 110,
      "outputs": [
        {
          "output_type": "display_data",
          "data": {
            "image/png": "[encoded data removed]",
            "text/plain": [
              "<Figure size 1152x432 with 2 Axes>"
            ]
          },
          "metadata": {}
        }
      ]
    },
    {
      "cell_type": "markdown",
      "metadata": {
        "id": "Zut2pFfYGOwa"
      },
      "source": [
        "Através da correlação de Pearson entre as variáveis é possível observar que o preço é altamente correlacionado com max_power e o torque_Nm. Também nota-se que as variáveis torque_Nm e max_power são altamente correlacionadas. \n",
        "\n",
        "Como a correlação de Pearson é realizada entre duas variáveis, as variáveis que são correlacionadas com o preço e correlacionas entre si, serão mantidas."
      ]
    },
    {
      "cell_type": "markdown",
      "metadata": {
        "id": "qYI3q1N_j-rG"
      },
      "source": [
        "A análise dos outliers foram realizadas durante a tratativa de cada variável, mas segue o gráfico de boxplot de todas as variáveis para verificar o comportamento, bem como, a distribuição de cada."
      ]
    },
    {
      "cell_type": "code",
      "metadata": {
        "colab": {
          "base_uri": "https://localhost:8080/",
          "height": 0
        },
        "id": "2WUIu-FZHa9_",
        "outputId": "ee45410a-def7-4b03-924d-d19ba39c9252"
      },
      "source": [
        "vars_num = ['year', 'selling_price', 'km_driven', 'mileage', 'engine', 'max_power', 'torque_Nm', 'torque_rpm']\n",
        "\n",
        "for i in vars_num:\n",
        "\n",
        "  sns.set(style=\"ticks\")\n",
        "\n",
        "  x = df_final[i]\n",
        "  coluna = i\n",
        "\n",
        "  f, (ax_box, ax_hist) = plt.subplots(2)\n",
        "\n",
        "  sns.boxplot(x=x, ax=ax_box)\n",
        "  sns.histplot(x=x, ax=ax_hist)\n",
        "\n",
        "  ax_box.set(yticks=[])\n",
        "  sns.despine(ax=ax_hist)\n",
        "  sns.despine(ax=ax_box, left=True)\n",
        "  ax_box.set_title('Boxplot e Histograma de {}\\n'.format(coluna))\n",
        "\n",
        "plt.show()"
      ],
      "execution_count": 111,
      "outputs": [
        {
          "output_type": "display_data",
          "data": {
            "image/png": "[encoded data removed]",
            "text/plain": [
              "<Figure size 432x288 with 2 Axes>"
            ]
          },
          "metadata": {}
        },
        {
          "output_type": "display_data",
          "data": {
            "image/png": "[encoded data removed]",
            "text/plain": [
              "<Figure size 432x288 with 2 Axes>"
            ]
          },
          "metadata": {}
        },
        {
          "output_type": "display_data",
          "data": {
            "image/png": "[encoded data removed]",
            "text/plain": [
              "<Figure size 432x288 with 2 Axes>"
            ]
          },
          "metadata": {}
        },
        {
          "output_type": "display_data",
          "data": {
            "image/png": "[encoded data removed]",
            "text/plain": [
              "<Figure size 432x288 with 2 Axes>"
            ]
          },
          "metadata": {}
        },
        {
          "output_type": "display_data",
          "data": {
            "image/png": "[encoded data removed]",
            "text/plain": [
              "<Figure size 432x288 with 2 Axes>"
            ]
          },
          "metadata": {}
        },
        {
          "output_type": "display_data",
          "data": {
            "image/png": "[encoded data removed]",
            "text/plain": [
              "<Figure size 432x288 with 2 Axes>"
            ]
          },
          "metadata": {}
        },
        {
          "output_type": "display_data",
          "data": {
            "image/png": "[encoded data removed]",
            "text/plain": [
              "<Figure size 432x288 with 2 Axes>"
            ]
          },
          "metadata": {}
        },
        {
          "output_type": "display_data",
          "data": {
            "image/png": "[encoded data removed]",
            "text/plain": [
              "<Figure size 432x288 with 2 Axes>"
            ]
          },
          "metadata": {}
        }
      ]
    },
    {
      "cell_type": "markdown",
      "metadata": {
        "id": "5gGimG7klPVg"
      },
      "source": [
        "Variáveis categóricas"
      ]
    },
    {
      "cell_type": "code",
      "metadata": {
        "colab": {
          "base_uri": "https://localhost:8080/",
          "height": 0
        },
        "id": "scZFqG1KG9NL",
        "outputId": "317625de-6f6e-46d3-9cb7-5c2380370d6b"
      },
      "source": [
        "for i in df_final.select_dtypes(include=['object']).columns.values:\n",
        "\n",
        "  sns.set(style=\"ticks\")\n",
        "\n",
        "  x = df_final[i]\n",
        "  coluna = i\n",
        "\n",
        "  sns.catplot(y=x, kind=\"count\", palette=\"Set2\", data=df_final); \n",
        "\n",
        "plt.show()"
      ],
      "execution_count": 112,
      "outputs": [
        {
          "output_type": "display_data",
          "data": {
            "image/png": "[encoded data removed]",
            "text/plain": [
              "<Figure size 360x360 with 1 Axes>"
            ]
          },
          "metadata": {}
        },
        {
          "output_type": "display_data",
          "data": {
            "image/png": "[encoded data removed]",
            "text/plain": [
              "<Figure size 360x360 with 1 Axes>"
            ]
          },
          "metadata": {}
        },
        {
          "output_type": "display_data",
          "data": {
            "image/png": "[encoded data removed]",
            "text/plain": [
              "<Figure size 360x360 with 1 Axes>"
            ]
          },
          "metadata": {}
        },
        {
          "output_type": "display_data",
          "data": {
            "image/png": "[encoded data removed]",
            "text/plain": [
              "<Figure size 360x360 with 1 Axes>"
            ]
          },
          "metadata": {}
        },
        {
          "output_type": "display_data",
          "data": {
            "image/png": "[encoded data removed]",
            "text/plain": [
              "<Figure size 360x360 with 1 Axes>"
            ]
          },
          "metadata": {}
        }
      ]
    },
    {
      "cell_type": "markdown",
      "metadata": {
        "id": "WnayA33yWeDP"
      },
      "source": [
        "Tranformação das variáveis categóricas em variáveis binárias"
      ]
    },
    {
      "cell_type": "code",
      "metadata": {
        "id": "NQkINs6iWt7a"
      },
      "source": [
        "df_final = pd.get_dummies(df_final)"
      ],
      "execution_count": 113,
      "outputs": []
    },
    {
      "cell_type": "markdown",
      "metadata": {
        "id": "iTxzHPMRlZFk"
      },
      "source": [
        "## Modelagem"
      ]
    },
    {
      "cell_type": "code",
      "metadata": {
        "id": "_LVGcBwSl9Dr"
      },
      "source": [
        "from sklearn.metrics import mean_squared_error, r2_score\n",
        "from sklearn.model_selection import train_test_split, StratifiedKFold"
      ],
      "execution_count": 114,
      "outputs": []
    },
    {
      "cell_type": "code",
      "metadata": {
        "id": "7llxFopomxIs"
      },
      "source": [
        "#retirando a variavel alvo da base de teste\n",
        "treino = df_final.drop(columns='selling_price')\n",
        "y = df_final.selling_price.values\n",
        "X = treino"
      ],
      "execution_count": 115,
      "outputs": []
    },
    {
      "cell_type": "markdown",
      "metadata": {
        "id": "fU3eO7wUotDZ"
      },
      "source": [
        "Divisão da base de treino e da base de teste"
      ]
    },
    {
      "cell_type": "code",
      "metadata": {
        "id": "pzEHQ805pAoL"
      },
      "source": [
        "X_train, X_test, y_train, y_test = train_test_split(X, y, test_size=0.2, random_state = 202102)"
      ],
      "execution_count": 116,
      "outputs": []
    },
    {
      "cell_type": "code",
      "metadata": {
        "id": "3oHDaWJtpTW5"
      },
      "source": [
        "from sklearn.ensemble import RandomForestRegressor\n",
        "from lightgbm.sklearn import LGBMRegressor\n",
        "from sklearn.model_selection import GridSearchCV\n",
        "from sklearn.model_selection import cross_validate"
      ],
      "execution_count": 117,
      "outputs": []
    },
    {
      "cell_type": "markdown",
      "metadata": {
        "id": "y5eykfbzpVaB"
      },
      "source": [
        "## Random Forest Regressor"
      ]
    },
    {
      "cell_type": "markdown",
      "metadata": {
        "id": "1k6J0911YB40"
      },
      "source": [
        "O algoritmo da Floresta Aleatória é um conjunto de árvores de decisão construídas de maneira aleatória, como o próprio nome já diz, e o benefício é que a previsão média dos estimadores das árvores melhora a precisão."
      ]
    },
    {
      "cell_type": "code",
      "metadata": {
        "colab": {
          "base_uri": "https://localhost:8080/"
        },
        "id": "p8q3DsjWpuMA",
        "outputId": "65522ff1-0928-4b6b-a2f0-7aca2d2283ce"
      },
      "source": [
        "%%time\n",
        "RFreg = RandomForestRegressor(random_state=2021)\n",
        "\n",
        "RFreg.fit(X_train, y_train)\n",
        "print(\"R2 score do treino:\",r2_score(y_train, RFreg.predict(X_train)))\n",
        "print(\"R2 score da validação:\",r2_score(y_test, RFreg.predict(X_test)))"
      ],
      "execution_count": 118,
      "outputs": [
        {
          "output_type": "stream",
          "name": "stdout",
          "text": [
            "R2 score do treino: 0.9953311750116849\n",
            "R2 score do teste: 0.9741845816893564\n",
            "CPU times: user 2.57 s, sys: 18 ms, total: 2.59 s\n",
            "Wall time: 2.6 s\n"
          ]
        }
      ]
    },
    {
      "cell_type": "markdown",
      "metadata": {
        "id": "w4VnI2hnBVBa"
      },
      "source": [
        "O R2 Score do treino foi muito bom utilizando árvores. A ideia é melhorar os hiperparâmetros para evitar o overfitting, e para isso, será utilizado o modelo LGBMRegressor."
      ]
    },
    {
      "cell_type": "code",
      "metadata": {
        "id": "c47BCee1TSZt"
      },
      "source": [
        "LGBM = LGBMRegressor(random_state=17)"
      ],
      "execution_count": 119,
      "outputs": []
    },
    {
      "cell_type": "code",
      "metadata": {
        "colab": {
          "base_uri": "https://localhost:8080/"
        },
        "id": "WlKMm5AGTc5T",
        "outputId": "fd2d2722-5db5-473f-eb17-9e8c7d59d4bb"
      },
      "source": [
        "LGBM.fit(X_train, y_train)\n",
        "print(\"R2 score treino:\",r2_score(y_train, LGBM.predict(X_train)))\n",
        "print(\"R2 score validação:\",r2_score(y_test, LGBM.predict(X_test)))"
      ],
      "execution_count": 127,
      "outputs": [
        {
          "output_type": "stream",
          "name": "stdout",
          "text": [
            "R2 score treino: 0.9876706538387983\n",
            "R2 score validação: 0.9746035583159949\n"
          ]
        }
      ]
    },
    {
      "cell_type": "code",
      "metadata": {
        "id": "I9I_HtwMTniR"
      },
      "source": [
        "from sklearn.model_selection import GridSearchCV\n",
        "\n",
        "#outro parametros interessante para evitar overfitting eh max_depth,\n",
        "#mas para evitar mais tempo de processamento, optou-se por retira-lo.\n",
        "\n",
        "param_grid = {'num_leaves': [3, 15, 31, 60, 100, 120], \n",
        "              'learning_rate': np.logspace(-3, 0, 10)\n",
        "              }\n",
        "\n",
        "grid_searcher_LGBM = GridSearchCV(estimator=LGBM, param_grid=param_grid, scoring=('r2'),\n",
        "                             cv=10, verbose=0, n_jobs=2)"
      ],
      "execution_count": 121,
      "outputs": []
    },
    {
      "cell_type": "code",
      "metadata": {
        "colab": {
          "base_uri": "https://localhost:8080/"
        },
        "id": "UTFn4YtDULDr",
        "outputId": "993b78a2-a79e-4e5b-f799-724bbb16e41f"
      },
      "source": [
        "grid_searcher_LGBM.fit(X_train, y_train)"
      ],
      "execution_count": 122,
      "outputs": [
        {
          "output_type": "stream",
          "name": "stdout",
          "text": [
            "Fitting 10 folds for each of 60 candidates, totalling 600 fits\n"
          ]
        },
        {
          "output_type": "stream",
          "name": "stderr",
          "text": [
            "[Parallel(n_jobs=2)]: Using backend LokyBackend with 2 concurrent workers.\n",
            "[Parallel(n_jobs=2)]: Done  46 tasks      | elapsed:    7.6s\n",
            "[Parallel(n_jobs=2)]: Done 196 tasks      | elapsed:   34.2s\n",
            "[Parallel(n_jobs=2)]: Done 446 tasks      | elapsed:  1.3min\n",
            "[Parallel(n_jobs=2)]: Done 600 out of 600 | elapsed:  1.8min finished\n"
          ]
        },
        {
          "output_type": "execute_result",
          "data": {
            "text/plain": [
              "GridSearchCV(cv=10, error_score=nan,\n",
              "             estimator=LGBMRegressor(boosting_type='gbdt', class_weight=None,\n",
              "                                     colsample_bytree=1.0,\n",
              "                                     importance_type='split', learning_rate=0.1,\n",
              "                                     max_depth=-1, min_child_samples=20,\n",
              "                                     min_child_weight=0.001, min_split_gain=0.0,\n",
              "                                     n_estimators=100, n_jobs=-1, num_leaves=31,\n",
              "                                     objective=None, random_state=17,\n",
              "                                     reg_alpha=0.0, reg_lambda=0.0, silent=True,\n",
              "                                     subsample=1.0, subsample_for_bin=200000,\n",
              "                                     subsample_freq=0),\n",
              "             iid='deprecated', n_jobs=2,\n",
              "             param_grid={'learning_rate': array([0.001     , 0.00215443, 0.00464159, 0.01      , 0.02154435,\n",
              "       0.04641589, 0.1       , 0.21544347, 0.46415888, 1.        ]),\n",
              "                         'num_leaves': [3, 15, 31, 60, 100, 120]},\n",
              "             pre_dispatch='2*n_jobs', refit=True, return_train_score=False,\n",
              "             scoring='r2', verbose=1)"
            ]
          },
          "metadata": {},
          "execution_count": 122
        }
      ]
    },
    {
      "cell_type": "code",
      "metadata": {
        "colab": {
          "base_uri": "https://localhost:8080/"
        },
        "id": "h4ZO467GUTEo",
        "outputId": "569f91a9-2326-4878-c462-92ea0b6dd9cd"
      },
      "source": [
        "grid_searcher_LGBM.best_params_, grid_searcher_LGBM.best_score_"
      ],
      "execution_count": 123,
      "outputs": [
        {
          "output_type": "execute_result",
          "data": {
            "text/plain": [
              "({'learning_rate': 0.21544346900318823, 'num_leaves': 100}, 0.9689347735700945)"
            ]
          },
          "metadata": {},
          "execution_count": 123
        }
      ]
    },
    {
      "cell_type": "code",
      "metadata": {
        "colab": {
          "base_uri": "https://localhost:8080/"
        },
        "id": "Yq-RzuMtUbkg",
        "outputId": "904dd5d4-6d20-4a00-dff6-901ca9118955"
      },
      "source": [
        "r2_score(y_test, grid_searcher_LGBM.predict(X_test))"
      ],
      "execution_count": 124,
      "outputs": [
        {
          "output_type": "execute_result",
          "data": {
            "text/plain": [
              "0.9751034656517276"
            ]
          },
          "metadata": {},
          "execution_count": 124
        }
      ]
    },
    {
      "cell_type": "code",
      "metadata": {
        "id": "XTcVhyvLU0wr"
      },
      "source": [
        "final_LGBM = LGBMRegressor(num_leaves=grid_searcher_LGBM.best_params_['num_leaves'],\n",
        "                           learning_rate=grid_searcher_LGBM.best_params_['learning_rate'],\n",
        "                           n_jobs=2)"
      ],
      "execution_count": 125,
      "outputs": []
    },
    {
      "cell_type": "code",
      "metadata": {
        "colab": {
          "base_uri": "https://localhost:8080/"
        },
        "id": "eaaoapleVNhl",
        "outputId": "2e4e37db-b163-4816-a0c8-1d1e4cd9c34b"
      },
      "source": [
        "scores = cross_validate(final_LGBM, X_train, y_train, cv=10,\n",
        "                         scoring=('r2','neg_mean_squared_error'),\n",
        "                         return_train_score=True)\n",
        "\n",
        "print('R2 score do treino: {} +- {}'.format(scores['train_r2'].mean(),scores['train_r2'].std()))\n",
        "print('R2 score do teste: {} +- {}'.format(scores['test_r2'].mean(),scores['test_r2'].std()))"
      ],
      "execution_count": 129,
      "outputs": [
        {
          "output_type": "stream",
          "name": "stdout",
          "text": [
            "R2 score do treino: 0.9955132234726951 +- 0.0004748606484796759\n",
            "R2 score do teste: 0.9689347735700945 +- 0.010824231686371777\n"
          ]
        }
      ]
    },
    {
      "cell_type": "code",
      "metadata": {
        "colab": {
          "base_uri": "https://localhost:8080/"
        },
        "id": "E37gffW9hWIo",
        "outputId": "89eff9f9-d1bf-4293-c984-1c0ef3afeab8"
      },
      "source": [
        "final_LGBM.fit(X_train, y_train)\n",
        "print('R2 score da validação:{}'.format(r2_score(y_test, final_LGBM.predict(X_test))))"
      ],
      "execution_count": 130,
      "outputs": [
        {
          "output_type": "stream",
          "name": "stdout",
          "text": [
            "R2 score da validação:0.9751034656517276\n"
          ]
        }
      ]
    },
    {
      "cell_type": "code",
      "metadata": {
        "colab": {
          "base_uri": "https://localhost:8080/"
        },
        "id": "F2CcsqB5VicS",
        "outputId": "40cb3fb3-1670-4299-a678-d65c7a2b2195"
      },
      "source": [
        "final_LGBM.fit(treino,y)"
      ],
      "execution_count": 131,
      "outputs": [
        {
          "output_type": "execute_result",
          "data": {
            "text/plain": [
              "LGBMRegressor(boosting_type='gbdt', class_weight=None, colsample_bytree=1.0,\n",
              "              importance_type='split', learning_rate=0.21544346900318823,\n",
              "              max_depth=-1, min_child_samples=20, min_child_weight=0.001,\n",
              "              min_split_gain=0.0, n_estimators=100, n_jobs=2, num_leaves=100,\n",
              "              objective=None, random_state=None, reg_alpha=0.0, reg_lambda=0.0,\n",
              "              silent=True, subsample=1.0, subsample_for_bin=200000,\n",
              "              subsample_freq=0)"
            ]
          },
          "metadata": {},
          "execution_count": 131
        }
      ]
    },
    {
      "cell_type": "code",
      "metadata": {
        "colab": {
          "base_uri": "https://localhost:8080/"
        },
        "id": "7NQCJVaMVsyf",
        "outputId": "d263a54f-e1fa-41b3-fc7c-557a9e841b93"
      },
      "source": [
        "print(r2_score(y, final_LGBM.predict(treino)))"
      ],
      "execution_count": 132,
      "outputs": [
        {
          "output_type": "stream",
          "name": "stdout",
          "text": [
            "0.9953215140505249\n"
          ]
        }
      ]
    }
  ]
}

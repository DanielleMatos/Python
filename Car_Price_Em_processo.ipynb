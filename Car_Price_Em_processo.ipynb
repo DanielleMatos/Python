{
  "nbformat": 4,
  "nbformat_minor": 0,
  "metadata": {
    "kernelspec": {
      "language": "python",
      "display_name": "Python 3",
      "name": "python3"
    },
    "language_info": {
      "name": "python",
      "version": "3.7.10",
      "mimetype": "text/x-python",
      "codemirror_mode": {
        "name": "ipython",
        "version": 3
      },
      "pygments_lexer": "ipython3",
      "nbconvert_exporter": "python",
      "file_extension": ".py"
    },
    "colab": {
      "name": "Car Price - Em processo.ipynb",
      "provenance": []
    }
  },
  "cells": [
    {
      "cell_type": "markdown",
      "metadata": {
        "id": "vhCLlankt0Ca"
      },
      "source": [
        "# Projeto 01 - Car Price Prediction\n",
        "\n",
        "### Objetivo\n",
        "O objetivo é estimar um valor de venda para novos veículos.\n",
        "\n",
        "### Base de dados\n",
        "O conjunto de dados foi retirado do site CarDekho e a base de treino contém 5.689 carros. Já a base de teste possui 2.375.\n",
        "\n",
        "\n"
      ]
    },
    {
      "cell_type": "code",
      "metadata": {
        "id": "mSW02arzSXSN",
        "trusted": true
      },
      "source": [
        "import numpy as np\n",
        "import pandas as pd\n",
        "import matplotlib.pyplot as plt\n",
        "import seaborn as sns\n",
        "\n",
        "import random\n",
        "random.seed(202101)"
      ],
      "execution_count": null,
      "outputs": []
    },
    {
      "cell_type": "code",
      "metadata": {
        "trusted": true,
        "id": "fev9A_aYd17r"
      },
      "source": [
        "!pip3 install catboost"
      ],
      "execution_count": null,
      "outputs": []
    },
    {
      "cell_type": "markdown",
      "metadata": {
        "id": "wZACqHZIx5SR"
      },
      "source": [
        "## Análise dos dados"
      ]
    },
    {
      "cell_type": "code",
      "metadata": {
        "colab": {
          "base_uri": "https://localhost:8080/"
        },
        "id": "YoFMBMpleMVv",
        "outputId": "c2f269ed-a111-420d-ab4d-6067dc2e94f1"
      },
      "source": [
        "from google.colab import drive\n",
        "drive.mount('/content/drive')"
      ],
      "execution_count": null,
      "outputs": [
        {
          "output_type": "stream",
          "name": "stdout",
          "text": [
            "Drive already mounted at /content/drive; to attempt to forcibly remount, call drive.mount(\"/content/drive\", force_remount=True).\n"
          ]
        }
      ]
    },
    {
      "cell_type": "code",
      "metadata": {
        "id": "zT5EsjTLU71z",
        "trusted": true
      },
      "source": [
        "df_train = pd.read_csv(\"/content/drive/MyDrive/Aprendizado de Máquina/Bases/train_car_details.csv\")\n",
        "df_test = pd.read_csv(\"/content/drive/MyDrive/Aprendizado de Máquina/Bases/test_car_details.csv\")"
      ],
      "execution_count": null,
      "outputs": []
    },
    {
      "cell_type": "markdown",
      "metadata": {
        "id": "jLjrd98qlWMR"
      },
      "source": [
        "Os dados são compostos pelas variáveis:\n",
        "\n",
        "\n",
        "* Variaveis quantitativas:<br>\n",
        " * Ano de fabricacao do carro (year)\n",
        " * Qtd de Km dirigidos (km_driven)\n",
        " * Potência máxima do motor (max_power)\n",
        " * Qtd de acentos (seats)\n",
        " * Quilometragem por litro (mileage)\n",
        " * Potencia do motor (engine)\n",
        " * Torque: responsável pela capacidade do motor produzir força motriz, ou seja, o movimento giratório\n",
        " * Preço de venda (selling_price) **Valor a ser predito**\n",
        "\n",
        "* Variaveis qualitativas:\n",
        " * nome do carro (name)\n",
        " * tipo de combustivel utilizado (fuel)\n",
        " * tipo de vendendor (seller_type)\n",
        " * transmission: câmbio automático ou manual\n",
        "\n",
        " * Quantos donos ja possuiram o carro (owner)"
      ]
    },
    {
      "cell_type": "markdown",
      "metadata": {
        "id": "ehlXKtvE0tYH"
      },
      "source": [
        "### Treino"
      ]
    },
    {
      "cell_type": "code",
      "metadata": {
        "colab": {
          "base_uri": "https://localhost:8080/",
          "height": 203
        },
        "id": "ZOseIrfhyB2l",
        "outputId": "d2ad8554-e9cb-498b-ad98-ff9ee585c876"
      },
      "source": [
        "df_train.head()"
      ],
      "execution_count": null,
      "outputs": [
        {
          "output_type": "execute_result",
          "data": {
            "text/html": [
              "<div>\n",
              "<style scoped>\n",
              "    .dataframe tbody tr th:only-of-type {\n",
              "        vertical-align: middle;\n",
              "    }\n",
              "\n",
              "    .dataframe tbody tr th {\n",
              "        vertical-align: top;\n",
              "    }\n",
              "\n",
              "    .dataframe thead th {\n",
              "        text-align: right;\n",
              "    }\n",
              "</style>\n",
              "<table border=\"1\" class=\"dataframe\">\n",
              "  <thead>\n",
              "    <tr style=\"text-align: right;\">\n",
              "      <th></th>\n",
              "      <th>Id</th>\n",
              "      <th>name</th>\n",
              "      <th>year</th>\n",
              "      <th>selling_price</th>\n",
              "      <th>km_driven</th>\n",
              "      <th>fuel</th>\n",
              "      <th>seller_type</th>\n",
              "      <th>transmission</th>\n",
              "      <th>owner</th>\n",
              "      <th>mileage</th>\n",
              "      <th>engine</th>\n",
              "      <th>max_power</th>\n",
              "      <th>torque</th>\n",
              "      <th>seats</th>\n",
              "    </tr>\n",
              "  </thead>\n",
              "  <tbody>\n",
              "    <tr>\n",
              "      <th>0</th>\n",
              "      <td>1</td>\n",
              "      <td>Hyundai Santro GLS I - Euro I</td>\n",
              "      <td>1999</td>\n",
              "      <td>80000</td>\n",
              "      <td>110000</td>\n",
              "      <td>Petrol</td>\n",
              "      <td>Individual</td>\n",
              "      <td>Manual</td>\n",
              "      <td>Second Owner</td>\n",
              "      <td>NaN</td>\n",
              "      <td>NaN</td>\n",
              "      <td>NaN</td>\n",
              "      <td>NaN</td>\n",
              "      <td>NaN</td>\n",
              "    </tr>\n",
              "    <tr>\n",
              "      <th>1</th>\n",
              "      <td>2</td>\n",
              "      <td>Maruti Ertiga VDI</td>\n",
              "      <td>2012</td>\n",
              "      <td>459999</td>\n",
              "      <td>87000</td>\n",
              "      <td>Diesel</td>\n",
              "      <td>Individual</td>\n",
              "      <td>Manual</td>\n",
              "      <td>First Owner</td>\n",
              "      <td>20.77 kmpl</td>\n",
              "      <td>1248 CC</td>\n",
              "      <td>88.76 bhp</td>\n",
              "      <td>200Nm@ 1750rpm</td>\n",
              "      <td>7.0</td>\n",
              "    </tr>\n",
              "    <tr>\n",
              "      <th>2</th>\n",
              "      <td>3</td>\n",
              "      <td>BMW 3 Series 320d Luxury Line</td>\n",
              "      <td>2010</td>\n",
              "      <td>1100000</td>\n",
              "      <td>102000</td>\n",
              "      <td>Diesel</td>\n",
              "      <td>Dealer</td>\n",
              "      <td>Automatic</td>\n",
              "      <td>First Owner</td>\n",
              "      <td>19.62 kmpl</td>\n",
              "      <td>1995 CC</td>\n",
              "      <td>187.74 bhp</td>\n",
              "      <td>400Nm@ 1750-2500rpm</td>\n",
              "      <td>5.0</td>\n",
              "    </tr>\n",
              "    <tr>\n",
              "      <th>3</th>\n",
              "      <td>4</td>\n",
              "      <td>Tata New Safari DICOR 2.2 EX 4x2</td>\n",
              "      <td>2009</td>\n",
              "      <td>229999</td>\n",
              "      <td>212000</td>\n",
              "      <td>Diesel</td>\n",
              "      <td>Individual</td>\n",
              "      <td>Manual</td>\n",
              "      <td>Third Owner</td>\n",
              "      <td>11.57 kmpl</td>\n",
              "      <td>2179 CC</td>\n",
              "      <td>138.1 bhp</td>\n",
              "      <td>320Nm@ 1700-2700rpm</td>\n",
              "      <td>7.0</td>\n",
              "    </tr>\n",
              "    <tr>\n",
              "      <th>4</th>\n",
              "      <td>5</td>\n",
              "      <td>Toyota Fortuner 3.0 Diesel</td>\n",
              "      <td>2010</td>\n",
              "      <td>800000</td>\n",
              "      <td>125000</td>\n",
              "      <td>Diesel</td>\n",
              "      <td>Individual</td>\n",
              "      <td>Manual</td>\n",
              "      <td>Second Owner</td>\n",
              "      <td>11.5 kmpl</td>\n",
              "      <td>2982 CC</td>\n",
              "      <td>171 bhp</td>\n",
              "      <td>343Nm@ 1400-3400rpm</td>\n",
              "      <td>7.0</td>\n",
              "    </tr>\n",
              "  </tbody>\n",
              "</table>\n",
              "</div>"
            ],
            "text/plain": [
              "   Id                              name  ...               torque  seats\n",
              "0   1     Hyundai Santro GLS I - Euro I  ...                  NaN    NaN\n",
              "1   2                 Maruti Ertiga VDI  ...       200Nm@ 1750rpm    7.0\n",
              "2   3     BMW 3 Series 320d Luxury Line  ...  400Nm@ 1750-2500rpm    5.0\n",
              "3   4  Tata New Safari DICOR 2.2 EX 4x2  ...  320Nm@ 1700-2700rpm    7.0\n",
              "4   5        Toyota Fortuner 3.0 Diesel  ...  343Nm@ 1400-3400rpm    7.0\n",
              "\n",
              "[5 rows x 14 columns]"
            ]
          },
          "metadata": {},
          "execution_count": 9
        }
      ]
    },
    {
      "cell_type": "code",
      "metadata": {
        "colab": {
          "base_uri": "https://localhost:8080/"
        },
        "id": "4-MVo-Dd00td",
        "outputId": "65581eb3-64ae-4e70-9ccb-361cf35c388c"
      },
      "source": [
        "#Porcentagem de nan por atributo\n",
        "print(round(100*df_train.isna().sum()/len(df_train), 2))"
      ],
      "execution_count": null,
      "outputs": [
        {
          "output_type": "stream",
          "name": "stdout",
          "text": [
            "Id               0.00\n",
            "name             0.00\n",
            "year             0.00\n",
            "selling_price    0.00\n",
            "km_driven        0.00\n",
            "fuel             0.00\n",
            "seller_type      0.00\n",
            "transmission     0.00\n",
            "owner            0.00\n",
            "mileage          2.76\n",
            "engine           2.76\n",
            "max_power        2.65\n",
            "torque           2.78\n",
            "seats            2.76\n",
            "dtype: float64\n"
          ]
        }
      ]
    },
    {
      "cell_type": "code",
      "metadata": {
        "id": "cGF2Ujaj2XD3"
      },
      "source": [
        "pd.set_option('display.max_rows', 200)\n",
        "df_train[df_train['mileage'].isnull()]\n",
        "#pd.reset_option('display.max_rows')"
      ],
      "execution_count": null,
      "outputs": []
    },
    {
      "cell_type": "markdown",
      "metadata": {
        "id": "cPeACfqLXdCL"
      },
      "source": [
        "Pelo fatos dos NaN's estar majoritariamente presente nas mesmas linhas e por representar um baixo volume em relação ao total (menos de 3%), tais linhas serão retiradas."
      ]
    },
    {
      "cell_type": "code",
      "metadata": {
        "id": "SLNlNI1vYz3g",
        "trusted": true,
        "colab": {
          "base_uri": "https://localhost:8080/"
        },
        "outputId": "3daee66a-c420-410d-bc20-7c91e698085b"
      },
      "source": [
        "print(f'Quantidade de linhas totais: ', df_train.shape[0])\n",
        "# Remove as linhas com NaN\n",
        "df_train = df_train.dropna(axis=0)   \n",
        "print(f'Quantidade de linhas após retirada dos NaNs: ', df_train.shape[0])\n",
        "#Aproximadamente 3% de linhas eliminadas"
      ],
      "execution_count": null,
      "outputs": [
        {
          "output_type": "stream",
          "text": [
            "Quantidade de linhas totais:  5689\n",
            "Quantidade de linhas após retirada dos NaNs:  5531\n"
          ],
          "name": "stdout"
        }
      ]
    },
    {
      "cell_type": "markdown",
      "metadata": {
        "id": "_xfJ_Jhc65A_"
      },
      "source": [
        "### Teste"
      ]
    },
    {
      "cell_type": "code",
      "metadata": {
        "colab": {
          "base_uri": "https://localhost:8080/",
          "height": 203
        },
        "id": "BAIRjPQ5z3SA",
        "outputId": "8c3bd515-725a-4941-f7a7-611bc2c253c0"
      },
      "source": [
        "df_test.head()"
      ],
      "execution_count": null,
      "outputs": [
        {
          "output_type": "execute_result",
          "data": {
            "text/html": [
              "<div>\n",
              "<style scoped>\n",
              "    .dataframe tbody tr th:only-of-type {\n",
              "        vertical-align: middle;\n",
              "    }\n",
              "\n",
              "    .dataframe tbody tr th {\n",
              "        vertical-align: top;\n",
              "    }\n",
              "\n",
              "    .dataframe thead th {\n",
              "        text-align: right;\n",
              "    }\n",
              "</style>\n",
              "<table border=\"1\" class=\"dataframe\">\n",
              "  <thead>\n",
              "    <tr style=\"text-align: right;\">\n",
              "      <th></th>\n",
              "      <th>Id</th>\n",
              "      <th>name</th>\n",
              "      <th>year</th>\n",
              "      <th>km_driven</th>\n",
              "      <th>fuel</th>\n",
              "      <th>seller_type</th>\n",
              "      <th>transmission</th>\n",
              "      <th>owner</th>\n",
              "      <th>mileage</th>\n",
              "      <th>engine</th>\n",
              "      <th>max_power</th>\n",
              "      <th>torque</th>\n",
              "      <th>seats</th>\n",
              "    </tr>\n",
              "  </thead>\n",
              "  <tbody>\n",
              "    <tr>\n",
              "      <th>0</th>\n",
              "      <td>1</td>\n",
              "      <td>Tata Indigo LS</td>\n",
              "      <td>2008</td>\n",
              "      <td>60000</td>\n",
              "      <td>Diesel</td>\n",
              "      <td>Individual</td>\n",
              "      <td>Manual</td>\n",
              "      <td>Third Owner</td>\n",
              "      <td>17.0 kmpl</td>\n",
              "      <td>1405 CC</td>\n",
              "      <td>70 bhp</td>\n",
              "      <td>13.5@ 2,500(kgm@ rpm)</td>\n",
              "      <td>5.0</td>\n",
              "    </tr>\n",
              "    <tr>\n",
              "      <th>1</th>\n",
              "      <td>2</td>\n",
              "      <td>Maruti Baleno Delta 1.2</td>\n",
              "      <td>2019</td>\n",
              "      <td>30000</td>\n",
              "      <td>Petrol</td>\n",
              "      <td>Individual</td>\n",
              "      <td>Manual</td>\n",
              "      <td>First Owner</td>\n",
              "      <td>21.4 kmpl</td>\n",
              "      <td>1197 CC</td>\n",
              "      <td>83.1 bhp</td>\n",
              "      <td>115Nm@ 4000rpm</td>\n",
              "      <td>5.0</td>\n",
              "    </tr>\n",
              "    <tr>\n",
              "      <th>2</th>\n",
              "      <td>3</td>\n",
              "      <td>Maruti Swift Dzire AMT ZDI</td>\n",
              "      <td>2017</td>\n",
              "      <td>80000</td>\n",
              "      <td>Diesel</td>\n",
              "      <td>Individual</td>\n",
              "      <td>Automatic</td>\n",
              "      <td>First Owner</td>\n",
              "      <td>28.4 kmpl</td>\n",
              "      <td>1248 CC</td>\n",
              "      <td>74.02 bhp</td>\n",
              "      <td>190Nm@ 2000rpm</td>\n",
              "      <td>5.0</td>\n",
              "    </tr>\n",
              "    <tr>\n",
              "      <th>3</th>\n",
              "      <td>4</td>\n",
              "      <td>Mahindra XUV500 W10 2WD</td>\n",
              "      <td>2018</td>\n",
              "      <td>30000</td>\n",
              "      <td>Diesel</td>\n",
              "      <td>Individual</td>\n",
              "      <td>Manual</td>\n",
              "      <td>First Owner</td>\n",
              "      <td>16.0 kmpl</td>\n",
              "      <td>2179 CC</td>\n",
              "      <td>140 bhp</td>\n",
              "      <td>330Nm@ 1600-2800rpm</td>\n",
              "      <td>7.0</td>\n",
              "    </tr>\n",
              "    <tr>\n",
              "      <th>4</th>\n",
              "      <td>5</td>\n",
              "      <td>Hyundai Elite i20 Asta Option BSIV</td>\n",
              "      <td>2019</td>\n",
              "      <td>35000</td>\n",
              "      <td>Petrol</td>\n",
              "      <td>Individual</td>\n",
              "      <td>Manual</td>\n",
              "      <td>First Owner</td>\n",
              "      <td>18.6 kmpl</td>\n",
              "      <td>1197 CC</td>\n",
              "      <td>81.86 bhp</td>\n",
              "      <td>117nm@ 4000rpm</td>\n",
              "      <td>5.0</td>\n",
              "    </tr>\n",
              "  </tbody>\n",
              "</table>\n",
              "</div>"
            ],
            "text/plain": [
              "   Id                                name  ...                 torque  seats\n",
              "0   1                      Tata Indigo LS  ...  13.5@ 2,500(kgm@ rpm)    5.0\n",
              "1   2             Maruti Baleno Delta 1.2  ...         115Nm@ 4000rpm    5.0\n",
              "2   3          Maruti Swift Dzire AMT ZDI  ...         190Nm@ 2000rpm    5.0\n",
              "3   4             Mahindra XUV500 W10 2WD  ...    330Nm@ 1600-2800rpm    7.0\n",
              "4   5  Hyundai Elite i20 Asta Option BSIV  ...         117nm@ 4000rpm    5.0\n",
              "\n",
              "[5 rows x 13 columns]"
            ]
          },
          "metadata": {},
          "execution_count": 16
        }
      ]
    },
    {
      "cell_type": "markdown",
      "metadata": {
        "id": "3j3bDVl90LP7"
      },
      "source": [
        "Tanto a base de treino quanto a base de teste possuem as mesmas colunas."
      ]
    },
    {
      "cell_type": "code",
      "metadata": {
        "id": "JVhzBGQ87MXT"
      },
      "source": [
        "#Porcentagem de nan por atributo\n",
        "print(round(100*df_test.isna().sum()/len(df_train), 2))"
      ],
      "execution_count": null,
      "outputs": []
    },
    {
      "cell_type": "markdown",
      "metadata": {
        "id": "EYjEAkXw7URm"
      },
      "source": [
        "Para facilitar a correção de algumas variáveis tanto do treino quanto do teste, serão criadas funções."
      ]
    },
    {
      "cell_type": "code",
      "metadata": {
        "id": "DXkxkyyDa2aj",
        "trusted": true
      },
      "source": [
        "df_train = df_train.iloc[:,1:] #retirando a coluna de id do treino\n",
        "df_test = df_test.iloc[:,1:] #retirando a coluna Id do teste"
      ],
      "execution_count": null,
      "outputs": []
    },
    {
      "cell_type": "markdown",
      "metadata": {
        "id": "nKnbPT9VUKmw"
      },
      "source": [
        "## Pré-Processamento dos dados"
      ]
    }
  ]
}
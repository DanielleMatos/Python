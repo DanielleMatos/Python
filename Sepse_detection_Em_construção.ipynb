{
  "nbformat": 4,
  "nbformat_minor": 0,
  "metadata": {
    "colab": {
      "name": "Sepse detection - Em construção.ipynb",
      "provenance": [],
      "collapsed_sections": []
    },
    "kernelspec": {
      "name": "python3",
      "display_name": "Python 3"
    },
    "language_info": {
      "name": "python"
    }
  },
  "cells": [
    {
      "cell_type": "markdown",
      "metadata": {
        "id": "g6u6WA0z4rCI"
      },
      "source": [
        "# Projeto 02 - Sepsis Detection\n",
        "\n",
        "### Introdução\n",
        "\n",
        "A sepse ocorre quando substâncias químicas liberadas na corrente sanguínea para combater uma infecção desencadeiam uma inflamação em todo o corpo. Isso pode causar uma série de alterações que danificam diversos sistemas de órgãos, levando-os a falhar e, às vezes, resultando em morte.\n",
        "\n",
        "https://www.einstein.br/doencas-sintomas/sepse-hemodinamica\n",
        "\n",
        "### Objetivo\n",
        "O grande problema com o diagnóstico preciso de sepse é que ele envolve a obtenção de amostras de sangue e urina do paciente, e até que sejam aferidas às quantidades relativas de lactato, leucócitos e proteína C reativa ou feita a cultura de urina, que são indicadores mais precisos de sepse, o paciente pode apresentar uma piora exponencial no seu quadro clínico.\n",
        "\n",
        "Desta forma, o objetivo é elaborar um alarme “pré-séptico” utilizando aprendizado de máquina somente nos sinais vitais dos pacientes, assim, \n",
        "a equipe médica pode priorizar a coleta de sangue e urina destes pacientes.\n",
        "\n",
        "### Base de Dados\n",
        "A base para modelagem do alarme \"pré-séptico\" foi extraída do prontuário de diversos pacientes em 2019 que apresentaram sinais, ou não, de infecção generalizada. Todos os dados foram digitalizados manualmente por funcionários da administração do hospital. O diagnóstico final dos pacientes, para gerar o rótulo de sepse, foi obtido através da análise das medidas do lactato, leucócitos e proteína C reativa, além do casamento dessas medidas com o estado dos sinais vitais do paciente na situação.\n"
      ]
    },
    {
      "cell_type": "code",
      "metadata": {
        "id": "1CpTG2MBKlU1"
      },
      "source": [
        "import numpy as np\n",
        "import pandas as pd\n",
        "import matplotlib.pyplot as plt\n",
        "import seaborn as sns\n",
        "\n",
        "import random\n",
        "np.random.seed(2021)"
      ],
      "execution_count": null,
      "outputs": []
    },
    {
      "cell_type": "code",
      "metadata": {
        "colab": {
          "base_uri": "https://localhost:8080/"
        },
        "id": "SwTU422KgI_h",
        "outputId": "73c44161-8db3-4485-de8d-73ca5b1202a0"
      },
      "source": [
        "from google.colab import drive\n",
        "drive.mount('/content/drive')"
      ],
      "execution_count": null,
      "outputs": [
        {
          "output_type": "stream",
          "name": "stdout",
          "text": [
            "Mounted at /content/drive\n"
          ]
        }
      ]
    },
    {
      "cell_type": "code",
      "metadata": {
        "id": "0pqhlkWYLRQ-"
      },
      "source": [
        "df_train = pd.read_csv('/content/drive/MyDrive/Aprendizado de Máquina/training_data_sepse.csv')"
      ],
      "execution_count": null,
      "outputs": []
    },
    {
      "cell_type": "markdown",
      "metadata": {
        "id": "6fEMB5dJL3MD"
      },
      "source": [
        "# Conhecendo os dados\n"
      ]
    },
    {
      "cell_type": "markdown",
      "metadata": {
        "id": "xBXyvTrqL7Fc"
      },
      "source": [
        "ID<br>\n",
        "N° de Atendimento (N° do Paciente)<br>\n",
        "Temperatura<br>\n",
        "Pulso<br>\n",
        "Respiração<br>\n",
        "Pa_min (Pressão Mínima)<br>\n",
        "Pa_max (Pressão Máxima)"
      ]
    },
    {
      "cell_type": "code",
      "metadata": {
        "colab": {
          "base_uri": "https://localhost:8080/",
          "height": 204
        },
        "id": "ZFzlc3jtLtxA",
        "outputId": "3885e14f-1695-48f9-a334-1f4fa306a2ed"
      },
      "source": [
        "df_train.head()"
      ],
      "execution_count": null,
      "outputs": [
        {
          "output_type": "execute_result",
          "data": {
            "text/html": [
              "<div>\n",
              "<style scoped>\n",
              "    .dataframe tbody tr th:only-of-type {\n",
              "        vertical-align: middle;\n",
              "    }\n",
              "\n",
              "    .dataframe tbody tr th {\n",
              "        vertical-align: top;\n",
              "    }\n",
              "\n",
              "    .dataframe thead th {\n",
              "        text-align: right;\n",
              "    }\n",
              "</style>\n",
              "<table border=\"1\" class=\"dataframe\">\n",
              "  <thead>\n",
              "    <tr style=\"text-align: right;\">\n",
              "      <th></th>\n",
              "      <th>id</th>\n",
              "      <th>num_atend</th>\n",
              "      <th>temperatura</th>\n",
              "      <th>pulso</th>\n",
              "      <th>respiracao</th>\n",
              "      <th>pa_min</th>\n",
              "      <th>pa_max</th>\n",
              "      <th>sepse</th>\n",
              "    </tr>\n",
              "  </thead>\n",
              "  <tbody>\n",
              "    <tr>\n",
              "      <th>0</th>\n",
              "      <td>1</td>\n",
              "      <td>6066066</td>\n",
              "      <td>36.0</td>\n",
              "      <td>117.0</td>\n",
              "      <td>NaN</td>\n",
              "      <td>113.0</td>\n",
              "      <td>72.0</td>\n",
              "      <td>1</td>\n",
              "    </tr>\n",
              "    <tr>\n",
              "      <th>1</th>\n",
              "      <td>2</td>\n",
              "      <td>6019916</td>\n",
              "      <td>36.0</td>\n",
              "      <td>105.0</td>\n",
              "      <td>NaN</td>\n",
              "      <td>NaN</td>\n",
              "      <td>NaN</td>\n",
              "      <td>1</td>\n",
              "    </tr>\n",
              "    <tr>\n",
              "      <th>2</th>\n",
              "      <td>3</td>\n",
              "      <td>6000000</td>\n",
              "      <td>38.0</td>\n",
              "      <td>118.0</td>\n",
              "      <td>NaN</td>\n",
              "      <td>110.0</td>\n",
              "      <td>70.0</td>\n",
              "      <td>1</td>\n",
              "    </tr>\n",
              "    <tr>\n",
              "      <th>3</th>\n",
              "      <td>4</td>\n",
              "      <td>5993343</td>\n",
              "      <td>37.0</td>\n",
              "      <td>136.0</td>\n",
              "      <td>NaN</td>\n",
              "      <td>NaN</td>\n",
              "      <td>NaN</td>\n",
              "      <td>1</td>\n",
              "    </tr>\n",
              "    <tr>\n",
              "      <th>4</th>\n",
              "      <td>5</td>\n",
              "      <td>6001799</td>\n",
              "      <td>37.0</td>\n",
              "      <td>104.0</td>\n",
              "      <td>NaN</td>\n",
              "      <td>NaN</td>\n",
              "      <td>NaN</td>\n",
              "      <td>1</td>\n",
              "    </tr>\n",
              "  </tbody>\n",
              "</table>\n",
              "</div>"
            ],
            "text/plain": [
              "   id  num_atend  temperatura  pulso  respiracao  pa_min  pa_max  sepse\n",
              "0   1    6066066         36.0  117.0         NaN   113.0    72.0      1\n",
              "1   2    6019916         36.0  105.0         NaN     NaN     NaN      1\n",
              "2   3    6000000         38.0  118.0         NaN   110.0    70.0      1\n",
              "3   4    5993343         37.0  136.0         NaN     NaN     NaN      1\n",
              "4   5    6001799         37.0  104.0         NaN     NaN     NaN      1"
            ]
          },
          "metadata": {
            "tags": []
          },
          "execution_count": 88
        }
      ]
    },
    {
      "cell_type": "markdown",
      "metadata": {
        "id": "Lfa1rwE8nWqY"
      },
      "source": [
        "Verificando presença de dados faltantes e duplicados"
      ]
    },
    {
      "cell_type": "code",
      "metadata": {
        "colab": {
          "base_uri": "https://localhost:8080/"
        },
        "id": "3TaUFzkjMhgf",
        "outputId": "d409deb9-fd8a-498b-908f-e46cb96af5bb"
      },
      "source": [
        "nLinhas , nColunas = df_train.shape\n",
        "\n",
        "dupl = df_train.duplicated().sum()/nLinhas\n",
        "\n",
        "print('Porcentagem de linhas duplicadas:', round(dupl*100,2))"
      ],
      "execution_count": null,
      "outputs": [
        {
          "output_type": "stream",
          "text": [
            "Porcentagem de linhas duplicadas: 70.31\n"
          ],
          "name": "stdout"
        }
      ]
    },
    {
      "cell_type": "markdown",
      "metadata": {
        "id": "4hXuGOvpoc4q"
      },
      "source": [
        "Pode ocorrer de uma mesma pessoa ter seus sinais vitais coletados mais de uma vez e isso não caracteriza um erro de base, dado que é esperado que ocorra."
      ]
    },
    {
      "cell_type": "code",
      "metadata": {
        "colab": {
          "base_uri": "https://localhost:8080/",
          "height": 252
        },
        "id": "f98ldTEfMh3F",
        "outputId": "8ad619dd-192d-45e9-b0d7-da77a1580f7f"
      },
      "source": [
        "#Verificado a quantidade de NaN por atributo\n",
        "nan_train= pd.DataFrame()\n",
        "nan_train['Qtd Nan'] = df_train.isna().sum()\n",
        "nan_train['Qtd Nan %'] = round(100*df_train.isna().sum()/len(df_train),2)\n",
        "nan_train.head(6)"
      ],
      "execution_count": null,
      "outputs": [
        {
          "output_type": "stream",
          "text": [
            "Frequencia treino:\n"
          ],
          "name": "stdout"
        },
        {
          "output_type": "execute_result",
          "data": {
            "text/html": [
              "<div>\n",
              "<style scoped>\n",
              "    .dataframe tbody tr th:only-of-type {\n",
              "        vertical-align: middle;\n",
              "    }\n",
              "\n",
              "    .dataframe tbody tr th {\n",
              "        vertical-align: top;\n",
              "    }\n",
              "\n",
              "    .dataframe thead th {\n",
              "        text-align: right;\n",
              "    }\n",
              "</style>\n",
              "<table border=\"1\" class=\"dataframe\">\n",
              "  <thead>\n",
              "    <tr style=\"text-align: right;\">\n",
              "      <th></th>\n",
              "      <th>Qtd Nan</th>\n",
              "      <th>Qtd Nan %</th>\n",
              "    </tr>\n",
              "  </thead>\n",
              "  <tbody>\n",
              "    <tr>\n",
              "      <th>temperatura</th>\n",
              "      <td>2145</td>\n",
              "      <td>12.66</td>\n",
              "    </tr>\n",
              "    <tr>\n",
              "      <th>pulso</th>\n",
              "      <td>2736</td>\n",
              "      <td>16.14</td>\n",
              "    </tr>\n",
              "    <tr>\n",
              "      <th>respiracao</th>\n",
              "      <td>13734</td>\n",
              "      <td>81.03</td>\n",
              "    </tr>\n",
              "    <tr>\n",
              "      <th>pa_min</th>\n",
              "      <td>8466</td>\n",
              "      <td>49.95</td>\n",
              "    </tr>\n",
              "    <tr>\n",
              "      <th>pa_max</th>\n",
              "      <td>8468</td>\n",
              "      <td>49.96</td>\n",
              "    </tr>\n",
              "    <tr>\n",
              "      <th>sepse</th>\n",
              "      <td>0</td>\n",
              "      <td>0.00</td>\n",
              "    </tr>\n",
              "  </tbody>\n",
              "</table>\n",
              "</div>"
            ],
            "text/plain": [
              "             Qtd Nan  Qtd Nan %\n",
              "temperatura     2145      12.66\n",
              "pulso           2736      16.14\n",
              "respiracao     13734      81.03\n",
              "pa_min          8466      49.95\n",
              "pa_max          8468      49.96\n",
              "sepse              0       0.00"
            ]
          },
          "metadata": {
            "tags": []
          },
          "execution_count": 92
        }
      ]
    },
    {
      "cell_type": "code",
      "metadata": {
        "id": "BiBvuZcPPdg-"
      },
      "source": [
        "#Retirando variaveis que nao sao importantes para a modelagem\n",
        "df_train.drop(['id', 'num_atend'], axis=1, inplace= True)\n"
      ],
      "execution_count": null,
      "outputs": []
    },
    {
      "cell_type": "markdown",
      "metadata": {
        "id": "ZRbLy_rH85K3"
      },
      "source": [
        "Verificando balanceamento da base"
      ]
    },
    {
      "cell_type": "code",
      "metadata": {
        "colab": {
          "base_uri": "https://localhost:8080/",
          "height": 284
        },
        "id": "h7zNVT9BO_tg",
        "outputId": "47b405bd-2304-4d5e-9203-b46fa0c5f3f0"
      },
      "source": [
        "y = df_train.sepse.value_counts()/df_train.sepse.value_counts().sum() #frequencia absoluta\n",
        "plt.bar(['0','1'],y)\n",
        "plt.title('Frequencia absoluta de Sepse')\n",
        "plt.show()"
      ],
      "execution_count": null,
      "outputs": [
        {
          "output_type": "display_data",
          "data": {
            "image/png": "[encoded data removed]",
            "text/plain": [
              "<Figure size 432x288 with 1 Axes>"
            ]
          },
          "metadata": {
            "tags": []
          }
        }
      ]
    },
    {
      "cell_type": "markdown",
      "metadata": {
        "id": "Z1m8x0jMO8r0"
      },
      "source": [
        "Nota-se pelo gráfico acima que a variável alvo está desbalanceada. Um desbalanceamento da classe ocorre quando existe desproporção entre o número de exemplos de uma ou mais classes em relação ao restante.\n",
        "\n",
        "Ao usar um modelo de classificação nos dados, o resultado do mesmo seria enviesado. Para evitar que isso ocorra, será utilizada a amostragem estratificada durante a modelagem.\n"
      ]
    },
    {
      "cell_type": "markdown",
      "metadata": {
        "id": "Rq97bUIvMgR3"
      },
      "source": [
        "# Pré-processamento"
      ]
    },
    {
      "cell_type": "markdown",
      "metadata": {
        "id": "9fWPknVhUuyM"
      },
      "source": [
        "## Tratando o campo temperatura"
      ]
    },
    {
      "cell_type": "code",
      "metadata": {
        "id": "G_mzXSAv6T8Y"
      },
      "source": [
        "treino = df_train.copy()\n",
        "teste = df_test.copy()"
      ],
      "execution_count": null,
      "outputs": []
    },
    {
      "cell_type": "code",
      "metadata": {
        "colab": {
          "base_uri": "https://localhost:8080/"
        },
        "id": "7vbEP-ceULWt",
        "outputId": "26afac32-3efe-4161-d106-cb8f85f7255b"
      },
      "source": [
        "treino.temperatura.unique()"
      ],
      "execution_count": null,
      "outputs": [
        {
          "output_type": "execute_result",
          "data": {
            "text/plain": [
              "array([  36. ,   38. ,   37. ,   35. ,   32. ,    nan,   39. ,   35.8,\n",
              "          0. ,   34. ,   36.7,   35.6,  356. ,   40. ,  131. ,   36.8,\n",
              "         35.1,   36.1,   35.4,   33.6,   37.6,   36.6,   35.5,   36.5,\n",
              "       3602. ,   37.2,    6. ,  378. ,   36.9,  -35. ,   36.2,   36.3,\n",
              "         37.7,   33. ,   85. ,  336. ,  368. ,   37.5,   35.3,   35.7,\n",
              "         35.9,   36.4])"
            ]
          },
          "metadata": {
            "tags": []
          },
          "execution_count": 95
        }
      ]
    },
    {
      "cell_type": "code",
      "metadata": {
        "colab": {
          "base_uri": "https://localhost:8080/"
        },
        "id": "nudz60jfAYcs",
        "outputId": "fb58e7ae-51bb-4676-9f1c-7c9c8729dd2c"
      },
      "source": [
        "teste.temperatura.unique()"
      ],
      "execution_count": null,
      "outputs": [
        {
          "output_type": "execute_result",
          "data": {
            "text/plain": [
              "array([ 36. ,  37. ,   nan,  39. ,  36.6,  38. ,  36.7,  35. ,  36.3,\n",
              "        37.2,  34. ,  33. ,   0. ,  37.5,  35.8,  37.7,  36.8,  35.3,\n",
              "        36.1,  35.4,  35.5,  36.5,  37.6,  36.2,  35.1,  35.6,  36.9,\n",
              "       378. ,  36.4, -35. ,  40. ,  35.7,  35.9,  33.6])"
            ]
          },
          "metadata": {
            "tags": []
          },
          "execution_count": 96
        }
      ]
    },
    {
      "cell_type": "markdown",
      "metadata": {
        "id": "Kd1cuqCbUzed"
      },
      "source": [
        "Alguns valores como 336, 378, por exemplo, entende-se que foi algum erro na hora de passar os dados para a planilha. Logo, tais valores serão corrigidos."
      ]
    },
    {
      "cell_type": "code",
      "metadata": {
        "id": "X7vpm4C0VFVa"
      },
      "source": [
        "treino.temperatura.replace(378:37.8, 336:33.6, 368:36.8, 356:35.6}, inplace=True)\n",
        "treino.temperatura.replace(3602, np.nan, inplace=True)"
      ],
      "execution_count": null,
      "outputs": []
    },
    {
      "cell_type": "code",
      "metadata": {
        "id": "vFFmKhjS4fNu"
      },
      "source": [
        "treino.temperatura = treino.temperatura.apply(abs)\n",
        "teste.temperatura = teste.temperatura.apply(abs)"
      ],
      "execution_count": null,
      "outputs": []
    },
    {
      "cell_type": "markdown",
      "metadata": {
        "id": "vwBNNFpb5LAi"
      },
      "source": [
        "Temperaturas nulas serão substituídas por NaN"
      ]
    },
    {
      "cell_type": "code",
      "metadata": {
        "id": "HJNGH7b35hFP"
      },
      "source": [
        "treino.temperatura.replace(0, np.nan, inplace=True)\n",
        "teste.temperatura.replace(0, np.nan, inplace=True)"
      ],
      "execution_count": null,
      "outputs": []
    }
  ]
}
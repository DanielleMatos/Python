{
  "nbformat": 4,
  "nbformat_minor": 0,
  "metadata": {
    "colab": {
      "name": "Sepse Detection - Em construção.ipynb",
      "provenance": [],
      "collapsed_sections": []
    },
    "kernelspec": {
      "name": "python3",
      "display_name": "Python 3"
    },
    "language_info": {
      "name": "python"
    }
  },
  "cells": [
    {
      "cell_type": "markdown",
      "metadata": {
        "id": "g6u6WA0z4rCI"
      },
      "source": [
        "# Projeto 02 - Sepsis Detection\n",
        "\n",
        "### Introdução\n",
        "\n",
        "A sepse ocorre quando substâncias químicas liberadas na corrente sanguínea para combater uma infecção desencadeiam uma inflamação em todo o corpo. Isso pode causar uma série de alterações que danificam diversos sistemas de órgãos, levando-os a falhar e, às vezes, resultando em morte.\n",
        "\n",
        "https://www.einstein.br/doencas-sintomas/sepse-hemodinamica\n",
        "\n",
        "### Objetivo\n",
        "O grande problema com o diagnóstico preciso de sepse é que ele envolve a obtenção de amostras de sangue e urina do paciente, e até que sejam aferidas às quantidades relativas de lactato, leucócitos e proteína C reativa ou feita a cultura de urina, que são indicadores mais precisos de sepse, o paciente pode apresentar uma piora exponencial no seu quadro clínico.\n",
        "\n",
        "Desta forma, o objetivo é elaborar um alarme “pré-séptico” utilizando aprendizado de máquina somente nos sinais vitais dos pacientes, assim, \n",
        "a equipe médica pode priorizar a coleta de sangue e urina destes pacientes.\n",
        "\n",
        "### Base de Dados\n",
        "A base para modelagem do alarme \"pré-séptico\" foi extraída do prontuário de diversos pacientes em 2019 que apresentaram sinais, ou não, de infecção generalizada. Todos os dados foram digitalizados manualmente por funcionários da administração do hospital. O diagnóstico final dos pacientes, para gerar o rótulo de sepse, foi obtido através da análise das medidas do lactato, leucócitos e proteína C reativa, além do casamento dessas medidas com o estado dos sinais vitais do paciente na situação.\n"
      ]
    },
    {
      "cell_type": "code",
      "metadata": {
        "id": "1CpTG2MBKlU1"
      },
      "source": [
        "import numpy as np\n",
        "import pandas as pd\n",
        "import matplotlib.pyplot as plt\n",
        "import seaborn as sns\n",
        "\n",
        "import random\n",
        "np.random.seed(2021)"
      ],
      "execution_count": 1,
      "outputs": []
    },
    {
      "cell_type": "code",
      "metadata": {
        "colab": {
          "base_uri": "https://localhost:8080/"
        },
        "id": "SwTU422KgI_h",
        "outputId": "80d587da-edc7-4c95-a045-8a6afc2c2650"
      },
      "source": [
        "from google.colab import drive\n",
        "drive.mount('/content/drive')"
      ],
      "execution_count": 2,
      "outputs": [
        {
          "output_type": "stream",
          "name": "stdout",
          "text": [
            "Mounted at /content/drive\n"
          ]
        }
      ]
    },
    {
      "cell_type": "code",
      "metadata": {
        "id": "0pqhlkWYLRQ-"
      },
      "source": [
        "df_train = pd.read_csv('/content/drive/MyDrive/Aprendizado de Máquina/training_data_sepse.csv')"
      ],
      "execution_count": 3,
      "outputs": []
    },
    {
      "cell_type": "markdown",
      "metadata": {
        "id": "6fEMB5dJL3MD"
      },
      "source": [
        "# Conhecendo os dados\n"
      ]
    },
    {
      "cell_type": "markdown",
      "metadata": {
        "id": "xBXyvTrqL7Fc"
      },
      "source": [
        "ID<br>\n",
        "N° de Atendimento (N° do Paciente)<br>\n",
        "Temperatura<br>\n",
        "Pulso<br>\n",
        "Respiração<br>\n",
        "Pa_min (Pressão Mínima)<br>\n",
        "Pa_max (Pressão Máxima)"
      ]
    },
    {
      "cell_type": "code",
      "metadata": {
        "colab": {
          "base_uri": "https://localhost:8080/",
          "height": 200
        },
        "id": "ZFzlc3jtLtxA",
        "outputId": "e54b106c-c40e-4e0c-e333-d3bd27eb5454"
      },
      "source": [
        "df_train.head()"
      ],
      "execution_count": 4,
      "outputs": [
        {
          "output_type": "execute_result",
          "data": {
            "text/html": [
              "<div>\n",
              "<style scoped>\n",
              "    .dataframe tbody tr th:only-of-type {\n",
              "        vertical-align: middle;\n",
              "    }\n",
              "\n",
              "    .dataframe tbody tr th {\n",
              "        vertical-align: top;\n",
              "    }\n",
              "\n",
              "    .dataframe thead th {\n",
              "        text-align: right;\n",
              "    }\n",
              "</style>\n",
              "<table border=\"1\" class=\"dataframe\">\n",
              "  <thead>\n",
              "    <tr style=\"text-align: right;\">\n",
              "      <th></th>\n",
              "      <th>id</th>\n",
              "      <th>num_atend</th>\n",
              "      <th>temperatura</th>\n",
              "      <th>pulso</th>\n",
              "      <th>respiracao</th>\n",
              "      <th>pa_min</th>\n",
              "      <th>pa_max</th>\n",
              "      <th>sepse</th>\n",
              "    </tr>\n",
              "  </thead>\n",
              "  <tbody>\n",
              "    <tr>\n",
              "      <th>0</th>\n",
              "      <td>1</td>\n",
              "      <td>6066066</td>\n",
              "      <td>36.0</td>\n",
              "      <td>117.0</td>\n",
              "      <td>NaN</td>\n",
              "      <td>113.0</td>\n",
              "      <td>72.0</td>\n",
              "      <td>1</td>\n",
              "    </tr>\n",
              "    <tr>\n",
              "      <th>1</th>\n",
              "      <td>2</td>\n",
              "      <td>6019916</td>\n",
              "      <td>36.0</td>\n",
              "      <td>105.0</td>\n",
              "      <td>NaN</td>\n",
              "      <td>NaN</td>\n",
              "      <td>NaN</td>\n",
              "      <td>1</td>\n",
              "    </tr>\n",
              "    <tr>\n",
              "      <th>2</th>\n",
              "      <td>3</td>\n",
              "      <td>6000000</td>\n",
              "      <td>38.0</td>\n",
              "      <td>118.0</td>\n",
              "      <td>NaN</td>\n",
              "      <td>110.0</td>\n",
              "      <td>70.0</td>\n",
              "      <td>1</td>\n",
              "    </tr>\n",
              "    <tr>\n",
              "      <th>3</th>\n",
              "      <td>4</td>\n",
              "      <td>5993343</td>\n",
              "      <td>37.0</td>\n",
              "      <td>136.0</td>\n",
              "      <td>NaN</td>\n",
              "      <td>NaN</td>\n",
              "      <td>NaN</td>\n",
              "      <td>1</td>\n",
              "    </tr>\n",
              "    <tr>\n",
              "      <th>4</th>\n",
              "      <td>5</td>\n",
              "      <td>6001799</td>\n",
              "      <td>37.0</td>\n",
              "      <td>104.0</td>\n",
              "      <td>NaN</td>\n",
              "      <td>NaN</td>\n",
              "      <td>NaN</td>\n",
              "      <td>1</td>\n",
              "    </tr>\n",
              "  </tbody>\n",
              "</table>\n",
              "</div>"
            ],
            "text/plain": [
              "   id  num_atend  temperatura  pulso  respiracao  pa_min  pa_max  sepse\n",
              "0   1    6066066         36.0  117.0         NaN   113.0    72.0      1\n",
              "1   2    6019916         36.0  105.0         NaN     NaN     NaN      1\n",
              "2   3    6000000         38.0  118.0         NaN   110.0    70.0      1\n",
              "3   4    5993343         37.0  136.0         NaN     NaN     NaN      1\n",
              "4   5    6001799         37.0  104.0         NaN     NaN     NaN      1"
            ]
          },
          "metadata": {},
          "execution_count": 4
        }
      ]
    },
    {
      "cell_type": "markdown",
      "metadata": {
        "id": "Lfa1rwE8nWqY"
      },
      "source": [
        "Verificando presença de dados faltantes e duplicados"
      ]
    },
    {
      "cell_type": "code",
      "metadata": {
        "colab": {
          "base_uri": "https://localhost:8080/"
        },
        "id": "3TaUFzkjMhgf",
        "outputId": "a3106cad-98e9-4eb4-8c63-826370f4f77b"
      },
      "source": [
        "nLinhas , nColunas = df_train.shape\n",
        "\n",
        "dupl = df_train.duplicated().sum()/nLinhas\n",
        "\n",
        "print('Porcentagem de linhas duplicadas:', round(dupl*100,2))"
      ],
      "execution_count": 5,
      "outputs": [
        {
          "output_type": "stream",
          "name": "stdout",
          "text": [
            "Porcentagem de linhas duplicadas: 0.0\n"
          ]
        }
      ]
    },
    {
      "cell_type": "markdown",
      "metadata": {
        "id": "4hXuGOvpoc4q"
      },
      "source": [
        "Pode ocorrer de uma mesma pessoa ter seus sinais vitais coletados mais de uma vez e isso não caracteriza um erro de base, dado que é esperado que ocorra."
      ]
    },
    {
      "cell_type": "code",
      "metadata": {
        "colab": {
          "base_uri": "https://localhost:8080/",
          "height": 230
        },
        "id": "f98ldTEfMh3F",
        "outputId": "db15944a-f137-4d8f-804d-9af9292d3fc6"
      },
      "source": [
        "#Verificado a quantidade de NaN por atributo\n",
        "nan_train= pd.DataFrame()\n",
        "nan_train['Qtd Nan'] = df_train.isna().sum()\n",
        "nan_train['Qtd Nan %'] = round(100*df_train.isna().sum()/len(df_train),2)\n",
        "nan_train.head(6)"
      ],
      "execution_count": 6,
      "outputs": [
        {
          "output_type": "execute_result",
          "data": {
            "text/html": [
              "<div>\n",
              "<style scoped>\n",
              "    .dataframe tbody tr th:only-of-type {\n",
              "        vertical-align: middle;\n",
              "    }\n",
              "\n",
              "    .dataframe tbody tr th {\n",
              "        vertical-align: top;\n",
              "    }\n",
              "\n",
              "    .dataframe thead th {\n",
              "        text-align: right;\n",
              "    }\n",
              "</style>\n",
              "<table border=\"1\" class=\"dataframe\">\n",
              "  <thead>\n",
              "    <tr style=\"text-align: right;\">\n",
              "      <th></th>\n",
              "      <th>Qtd Nan</th>\n",
              "      <th>Qtd Nan %</th>\n",
              "    </tr>\n",
              "  </thead>\n",
              "  <tbody>\n",
              "    <tr>\n",
              "      <th>id</th>\n",
              "      <td>0</td>\n",
              "      <td>0.00</td>\n",
              "    </tr>\n",
              "    <tr>\n",
              "      <th>num_atend</th>\n",
              "      <td>0</td>\n",
              "      <td>0.00</td>\n",
              "    </tr>\n",
              "    <tr>\n",
              "      <th>temperatura</th>\n",
              "      <td>2145</td>\n",
              "      <td>12.66</td>\n",
              "    </tr>\n",
              "    <tr>\n",
              "      <th>pulso</th>\n",
              "      <td>2736</td>\n",
              "      <td>16.14</td>\n",
              "    </tr>\n",
              "    <tr>\n",
              "      <th>respiracao</th>\n",
              "      <td>13734</td>\n",
              "      <td>81.03</td>\n",
              "    </tr>\n",
              "    <tr>\n",
              "      <th>pa_min</th>\n",
              "      <td>8466</td>\n",
              "      <td>49.95</td>\n",
              "    </tr>\n",
              "  </tbody>\n",
              "</table>\n",
              "</div>"
            ],
            "text/plain": [
              "             Qtd Nan  Qtd Nan %\n",
              "id                 0       0.00\n",
              "num_atend          0       0.00\n",
              "temperatura     2145      12.66\n",
              "pulso           2736      16.14\n",
              "respiracao     13734      81.03\n",
              "pa_min          8466      49.95"
            ]
          },
          "metadata": {},
          "execution_count": 6
        }
      ]
    },
    {
      "cell_type": "code",
      "metadata": {
        "id": "BiBvuZcPPdg-"
      },
      "source": [
        "#Retirando variaveis que nao sao importantes para a modelagem\n",
        "df_train.drop(['id', 'num_atend'], axis=1, inplace= True)\n"
      ],
      "execution_count": 7,
      "outputs": []
    },
    {
      "cell_type": "markdown",
      "metadata": {
        "id": "ZRbLy_rH85K3"
      },
      "source": [
        "Verificando balanceamento da base"
      ]
    },
    {
      "cell_type": "code",
      "metadata": {
        "colab": {
          "base_uri": "https://localhost:8080/",
          "height": 281
        },
        "id": "h7zNVT9BO_tg",
        "outputId": "105e39e2-9d0e-462e-9297-26c7082bda9c"
      },
      "source": [
        "y = df_train.sepse.value_counts()/df_train.sepse.value_counts().sum() #frequencia absoluta\n",
        "plt.bar(['0','1'],y)\n",
        "plt.title('Frequencia absoluta de Sepse')\n",
        "plt.show()"
      ],
      "execution_count": 8,
      "outputs": [
        {
          "output_type": "display_data",
          "data": {
            "image/png": "[encoded data removed]",
            "text/plain": [
              "<Figure size 432x288 with 1 Axes>"
            ]
          },
          "metadata": {
            "needs_background": "light"
          }
        }
      ]
    },
    {
      "cell_type": "markdown",
      "metadata": {
        "id": "Z1m8x0jMO8r0"
      },
      "source": [
        "Nota-se pelo gráfico acima que a variável alvo está desbalanceada. Um desbalanceamento da classe ocorre quando existe desproporção entre o número de exemplos de uma ou mais classes em relação ao restante.\n",
        "\n",
        "Ao usar um modelo de classificação nos dados, o resultado do mesmo seria enviesado. Para evitar que isso ocorra, será utilizada a amostragem estratificada durante a modelagem.\n"
      ]
    },
    {
      "cell_type": "markdown",
      "metadata": {
        "id": "Rq97bUIvMgR3"
      },
      "source": [
        "# Pré-processamento"
      ]
    },
    {
      "cell_type": "markdown",
      "metadata": {
        "id": "9fWPknVhUuyM"
      },
      "source": [
        "## Tratando o campo temperatura"
      ]
    },
    {
      "cell_type": "code",
      "metadata": {
        "id": "G_mzXSAv6T8Y"
      },
      "source": [
        "treino = df_train.copy()"
      ],
      "execution_count": 9,
      "outputs": []
    },
    {
      "cell_type": "code",
      "metadata": {
        "colab": {
          "base_uri": "https://localhost:8080/"
        },
        "id": "7vbEP-ceULWt",
        "outputId": "b91c9d06-5507-4f05-f47b-13e03c724343"
      },
      "source": [
        "treino.temperatura.unique()"
      ],
      "execution_count": 10,
      "outputs": [
        {
          "output_type": "execute_result",
          "data": {
            "text/plain": [
              "array([  36. ,   38. ,   37. ,   35. ,   32. ,    nan,   39. ,   35.8,\n",
              "          0. ,   34. ,   36.7,   35.6,  356. ,   40. ,  131. ,   36.8,\n",
              "         35.1,   36.1,   35.4,   33.6,   37.6,   36.6,   35.5,   36.5,\n",
              "       3602. ,   37.2,    6. ,  378. ,   36.9,  -35. ,   36.2,   36.3,\n",
              "         37.7,   33. ,   85. ,  336. ,  368. ,   37.5,   35.3,   35.7,\n",
              "         35.9,   36.4])"
            ]
          },
          "metadata": {},
          "execution_count": 10
        }
      ]
    },
    {
      "cell_type": "markdown",
      "metadata": {
        "id": "Kd1cuqCbUzed"
      },
      "source": [
        "Alguns valores como 336, 378, por exemplo, entende-se que foi algum erro na hora de passar os dados para a planilha. Logo, tais valores serão corrigidos."
      ]
    },
    {
      "cell_type": "code",
      "metadata": {
        "id": "X7vpm4C0VFVa"
      },
      "source": [
        "treino.temperatura.replace({378.:37.8, 336.:33.6, 368.:36.8, 356.:35.6}, inplace=True)\n",
        "treino.temperatura.replace(3602., np.nan, inplace=True)"
      ],
      "execution_count": 11,
      "outputs": []
    },
    {
      "cell_type": "markdown",
      "metadata": {
        "id": "24hMzbgqQi8l"
      },
      "source": [
        "Há temperaturas com valores negativos, dessa forma, será ajustado para serem valores positivos."
      ]
    },
    {
      "cell_type": "code",
      "metadata": {
        "id": "vFFmKhjS4fNu"
      },
      "source": [
        "treino.temperatura = treino.temperatura.apply(abs)"
      ],
      "execution_count": 12,
      "outputs": []
    },
    {
      "cell_type": "markdown",
      "metadata": {
        "id": "vwBNNFpb5LAi"
      },
      "source": [
        "Temperaturas nulas serão substituídas por NaN"
      ]
    },
    {
      "cell_type": "code",
      "metadata": {
        "id": "HJNGH7b35hFP"
      },
      "source": [
        "treino.temperatura.replace(0, np.nan, inplace=True)"
      ],
      "execution_count": 13,
      "outputs": []
    },
    {
      "cell_type": "code",
      "metadata": {
        "colab": {
          "base_uri": "https://localhost:8080/"
        },
        "id": "-RoFPiTZRB_I",
        "outputId": "5ad4e0b9-cf5f-4ab2-f5e7-cffdd27a8865"
      },
      "source": [
        "treino['temperatura'].describe()"
      ],
      "execution_count": 14,
      "outputs": [
        {
          "output_type": "execute_result",
          "data": {
            "text/plain": [
              "count    14607.000000\n",
              "mean        36.196166\n",
              "std          1.384627\n",
              "min          6.000000\n",
              "25%         36.000000\n",
              "50%         36.000000\n",
              "75%         36.700000\n",
              "max        131.000000\n",
              "Name: temperatura, dtype: float64"
            ]
          },
          "metadata": {},
          "execution_count": 14
        }
      ]
    },
    {
      "cell_type": "markdown",
      "metadata": {
        "id": "3VD1YuWV50wz"
      },
      "source": [
        "De acordo com o site https://www.medicinanet.com.br/conteudos/revisoes/6263/hipotermia_acidental.htm e https://www.medicinanet.com.br/conteudos/acp-medicine/5945/hipertermia_febre_e_febre_de_origem_indeterminada.htm será classificado que pessoas com temperatura abaixo de 30 graus celsius e acima de 42, já estariam em condições extremamente ruins, dessa forma, já seriam encaminhadas direto à emergência.\n",
        "\n",
        "Valores no intervalo citado acima serão substituídos por NaN."
      ]
    },
    {
      "cell_type": "code",
      "metadata": {
        "colab": {
          "base_uri": "https://localhost:8080/",
          "height": 200
        },
        "id": "vqywDzh45rb_",
        "outputId": "ef139290-0727-4d49-a482-f56d900a26b4"
      },
      "source": [
        "treino.query('temperatura < 30 or temperatura > 42')"
      ],
      "execution_count": 15,
      "outputs": [
        {
          "output_type": "execute_result",
          "data": {
            "text/html": [
              "<div>\n",
              "<style scoped>\n",
              "    .dataframe tbody tr th:only-of-type {\n",
              "        vertical-align: middle;\n",
              "    }\n",
              "\n",
              "    .dataframe tbody tr th {\n",
              "        vertical-align: top;\n",
              "    }\n",
              "\n",
              "    .dataframe thead th {\n",
              "        text-align: right;\n",
              "    }\n",
              "</style>\n",
              "<table border=\"1\" class=\"dataframe\">\n",
              "  <thead>\n",
              "    <tr style=\"text-align: right;\">\n",
              "      <th></th>\n",
              "      <th>temperatura</th>\n",
              "      <th>pulso</th>\n",
              "      <th>respiracao</th>\n",
              "      <th>pa_min</th>\n",
              "      <th>pa_max</th>\n",
              "      <th>sepse</th>\n",
              "    </tr>\n",
              "  </thead>\n",
              "  <tbody>\n",
              "    <tr>\n",
              "      <th>577</th>\n",
              "      <td>131.0</td>\n",
              "      <td>106.0</td>\n",
              "      <td>NaN</td>\n",
              "      <td>NaN</td>\n",
              "      <td>NaN</td>\n",
              "      <td>1</td>\n",
              "    </tr>\n",
              "    <tr>\n",
              "      <th>1843</th>\n",
              "      <td>6.0</td>\n",
              "      <td>101.0</td>\n",
              "      <td>NaN</td>\n",
              "      <td>158.0</td>\n",
              "      <td>89.0</td>\n",
              "      <td>0</td>\n",
              "    </tr>\n",
              "    <tr>\n",
              "      <th>4451</th>\n",
              "      <td>6.0</td>\n",
              "      <td>87.0</td>\n",
              "      <td>NaN</td>\n",
              "      <td>131.0</td>\n",
              "      <td>80.0</td>\n",
              "      <td>0</td>\n",
              "    </tr>\n",
              "    <tr>\n",
              "      <th>7123</th>\n",
              "      <td>85.0</td>\n",
              "      <td>85.0</td>\n",
              "      <td>NaN</td>\n",
              "      <td>NaN</td>\n",
              "      <td>NaN</td>\n",
              "      <td>0</td>\n",
              "    </tr>\n",
              "    <tr>\n",
              "      <th>11772</th>\n",
              "      <td>85.0</td>\n",
              "      <td>85.0</td>\n",
              "      <td>NaN</td>\n",
              "      <td>NaN</td>\n",
              "      <td>NaN</td>\n",
              "      <td>0</td>\n",
              "    </tr>\n",
              "  </tbody>\n",
              "</table>\n",
              "</div>"
            ],
            "text/plain": [
              "       temperatura  pulso  respiracao  pa_min  pa_max  sepse\n",
              "577          131.0  106.0         NaN     NaN     NaN      1\n",
              "1843           6.0  101.0         NaN   158.0    89.0      0\n",
              "4451           6.0   87.0         NaN   131.0    80.0      0\n",
              "7123          85.0   85.0         NaN     NaN     NaN      0\n",
              "11772         85.0   85.0         NaN     NaN     NaN      0"
            ]
          },
          "metadata": {},
          "execution_count": 15
        }
      ]
    },
    {
      "cell_type": "code",
      "metadata": {
        "id": "-kP_e21dURGq"
      },
      "source": [
        "treino.temperatura.replace(treino['temperatura'].values[treino['temperatura'].values < 30], np.nan, inplace=True)\n",
        "treino.temperatura.replace(treino['temperatura'].values[treino['temperatura'].values > 42], np.nan, inplace=True)"
      ],
      "execution_count": 16,
      "outputs": []
    },
    {
      "cell_type": "code",
      "metadata": {
        "colab": {
          "base_uri": "https://localhost:8080/"
        },
        "id": "JaHDmeRqcIBW",
        "outputId": "aa0e9f0e-635d-4b3a-ee6d-a8059cc79db7"
      },
      "source": [
        "treino.temperatura.unique()"
      ],
      "execution_count": 17,
      "outputs": [
        {
          "output_type": "execute_result",
          "data": {
            "text/plain": [
              "array([36. , 38. , 37. , 35. , 32. ,  nan, 39. , 35.8, 34. , 36.7, 35.6,\n",
              "       40. , 36.8, 35.1, 36.1, 35.4, 33.6, 37.6, 36.6, 35.5, 36.5, 37.2,\n",
              "       37.8, 36.9, 36.2, 36.3, 37.7, 33. , 37.5, 35.3, 35.7, 35.9, 36.4])"
            ]
          },
          "metadata": {},
          "execution_count": 17
        }
      ]
    },
    {
      "cell_type": "code",
      "metadata": {
        "colab": {
          "base_uri": "https://localhost:8080/"
        },
        "id": "enrTvyvgBBMQ",
        "outputId": "b7889ff3-f7fe-4f39-c382-c81ae81b8783"
      },
      "source": [
        "treino.temperatura.unique()"
      ],
      "execution_count": 19,
      "outputs": [
        {
          "output_type": "execute_result",
          "data": {
            "text/plain": [
              "array([36. , 38. , 37. , 35. , 32. ,  nan, 39. , 35.8, 34. , 36.7, 35.6,\n",
              "       40. , 36.8, 35.1, 36.1, 35.4, 33.6, 37.6, 36.6, 35.5, 36.5, 37.2,\n",
              "       37.8, 36.9, 36.2, 36.3, 37.7, 33. , 37.5, 35.3, 35.7, 35.9, 36.4])"
            ]
          },
          "metadata": {},
          "execution_count": 19
        }
      ]
    },
    {
      "cell_type": "code",
      "metadata": {
        "colab": {
          "base_uri": "https://localhost:8080/"
        },
        "id": "kEUZyuL2c17z",
        "outputId": "afed3fd3-42a4-4dd1-fa9c-8515e8e96ab3"
      },
      "source": [
        "treino.temperatura.describe()"
      ],
      "execution_count": 20,
      "outputs": [
        {
          "output_type": "execute_result",
          "data": {
            "text/plain": [
              "count    14602.000000\n",
              "mean        36.187125\n",
              "std          0.922527\n",
              "min         32.000000\n",
              "25%         36.000000\n",
              "50%         36.000000\n",
              "75%         36.700000\n",
              "max         40.000000\n",
              "Name: temperatura, dtype: float64"
            ]
          },
          "metadata": {},
          "execution_count": 20
        }
      ]
    },
    {
      "cell_type": "markdown",
      "metadata": {
        "id": "dLhbB8KT9M8c"
      },
      "source": [
        "## Tratando o campo pulso"
      ]
    },
    {
      "cell_type": "code",
      "metadata": {
        "id": "JVIyNBjI9Mex",
        "colab": {
          "base_uri": "https://localhost:8080/"
        },
        "outputId": "311af1cb-9739-4038-93b3-33d5ea6a2bb8"
      },
      "source": [
        "treino.pulso.unique() #batimento cardiaco"
      ],
      "execution_count": 21,
      "outputs": [
        {
          "output_type": "execute_result",
          "data": {
            "text/plain": [
              "array([ 117.,  105.,  118.,  136.,  104.,   83.,   91.,   99.,   67.,\n",
              "        116.,  107.,   72.,   85.,   68.,  102.,  110.,   66.,  139.,\n",
              "         74.,  101.,  120.,   71.,  144.,   nan,   96.,  108.,   92.,\n",
              "         98.,   94.,  100.,  114.,   78.,   87.,   97.,  106.,  111.,\n",
              "        115.,  112.,   64.,   90.,  103.,   76.,  124.,   80.,  119.,\n",
              "        140.,   75.,  137.,   82.,  125.,  134.,  109.,  122.,   79.,\n",
              "         95.,  121.,  130.,   65.,   69.,  113.,   73.,   77.,  131.,\n",
              "         88.,   81.,   93.,  126.,   84.,   56.,  128.,  170.,   60.,\n",
              "         38.,  154.,  123.,  138.,  155.,   86.,  127.,   70.,   52.,\n",
              "         89.,  132.,  152.,   62.,  135.,   61.,  149.,  179.,  150.,\n",
              "        183.,   51.,  165.,   63.,  143.,   44.,  129.,  151.,  156.,\n",
              "        158.,   55.,   59.,  153.,  174.,  186.,   42.,   40.,  145.,\n",
              "         32.,  133.,   43.,  142.,   54.,  160.,   53.,   58.,   57.,\n",
              "       1000.,   50.,   46.,  168.,   30.,   47.,   49.,  175.,   11.,\n",
              "         10.,  166.,  147.,    0.,   41.,  163.,   48.,  177.,  192.,\n",
              "        157.,  841.,  148.,  180.,  200.,   36.,  159.,  162.])"
            ]
          },
          "metadata": {},
          "execution_count": 21
        }
      ]
    },
    {
      "cell_type": "markdown",
      "metadata": {
        "id": "KeGKR2moVjzr"
      },
      "source": [
        "Pacientes com o valor da variável pulso zero terão esse valor substituido por NaN"
      ]
    },
    {
      "cell_type": "code",
      "metadata": {
        "id": "ta0DhOlj-2Ba"
      },
      "source": [
        "treino.pulso.replace(0, np.nan, inplace=True)"
      ],
      "execution_count": 22,
      "outputs": []
    }
  ]
}